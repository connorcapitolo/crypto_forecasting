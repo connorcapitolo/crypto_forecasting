{
  "nbformat": 4,
  "nbformat_minor": 0,
  "metadata": {
    "accelerator": "GPU",
    "colab": {
      "name": "LSTM_Modeling_Milestone3.ipynb",
      "provenance": [],
      "collapsed_sections": [
        "wjOGLKWqk6Jh"
      ],
      "machine_shape": "hm"
    },
    "kernelspec": {
      "display_name": "Python 3",
      "name": "python3"
    },
    "language_info": {
      "name": "python"
    }
  },
  "cells": [
    {
      "cell_type": "code",
      "metadata": {
        "id": "6T63b4X2miwX"
      },
      "source": [
        "import os\n",
        "from datetime import datetime\n",
        "import time\n",
        "\n",
        "import IPython\n",
        "import IPython.display\n",
        "import matplotlib as mpl\n",
        "import matplotlib.pyplot as plt\n",
        "import numpy as np\n",
        "import pandas as pd\n",
        "import seaborn as sns\n",
        "import tensorflow as tf"
      ],
      "execution_count": 1,
      "outputs": []
    },
    {
      "cell_type": "code",
      "metadata": {
        "colab": {
          "base_uri": "https://localhost:8080/"
        },
        "id": "Kv2iNx1EmuC-",
        "outputId": "d7b8c607-68c4-43a1-de19-5048d32f7cea"
      },
      "source": [
        "# Enable/Disable Eager Execution\n",
        "# Reference: https://www.tensorflow.org/guide/eager\n",
        "# TensorFlow's eager execution is an imperative programming environment that evaluates operations immediately, \n",
        "# without building graphs\n",
        "\n",
        "#tf.compat.v1.disable_eager_execution()\n",
        "#tf.compat.v1.enable_eager_execution()\n",
        "\n",
        "print(\"tensorflow version\", tf.__version__)\n",
        "print(\"keras version\", tf.keras.__version__)\n",
        "print(\"Eager Execution Enabled:\", tf.executing_eagerly())\n",
        "\n",
        "# Get the number of replicas \n",
        "strategy = tf.distribute.MirroredStrategy()\n",
        "print(\"Number of replicas:\", strategy.num_replicas_in_sync)\n",
        "\n",
        "devices = tf.config.experimental.get_visible_devices()\n",
        "print(\"Devices:\", devices)\n",
        "print(tf.config.experimental.list_logical_devices('GPU'))\n",
        "\n",
        "print(\"GPU Available: \", tf.config.list_physical_devices('GPU'))\n",
        "print(\"All Physical Devices\", tf.config.list_physical_devices())\n",
        "\n",
        "# Better performance with the tf.data API\n",
        "# Reference: https://www.tensorflow.org/guide/data_performance\n",
        "AUTOTUNE = tf.data.experimental.AUTOTUNE"
      ],
      "execution_count": 2,
      "outputs": [
        {
          "output_type": "stream",
          "name": "stdout",
          "text": [
            "tensorflow version 2.7.0\n",
            "keras version 2.7.0\n",
            "Eager Execution Enabled: True\n",
            "INFO:tensorflow:Using MirroredStrategy with devices ('/job:localhost/replica:0/task:0/device:GPU:0',)\n",
            "Number of replicas: 1\n",
            "Devices: [PhysicalDevice(name='/physical_device:CPU:0', device_type='CPU'), PhysicalDevice(name='/physical_device:GPU:0', device_type='GPU')]\n",
            "[LogicalDevice(name='/device:GPU:0', device_type='GPU')]\n",
            "GPU Available:  [PhysicalDevice(name='/physical_device:GPU:0', device_type='GPU')]\n",
            "All Physical Devices [PhysicalDevice(name='/physical_device:CPU:0', device_type='CPU'), PhysicalDevice(name='/physical_device:GPU:0', device_type='GPU')]\n"
          ]
        }
      ]
    },
    {
      "cell_type": "code",
      "metadata": {
        "colab": {
          "base_uri": "https://localhost:8080/"
        },
        "id": "EYrHjWcbnAzP",
        "outputId": "f49a1c4a-7b08-4713-9884-f76591a66e59"
      },
      "source": [
        "from google.colab import drive\n",
        "drive.mount(\"/content/gdrive\")"
      ],
      "execution_count": 3,
      "outputs": [
        {
          "output_type": "stream",
          "name": "stdout",
          "text": [
            "Drive already mounted at /content/gdrive; to attempt to forcibly remount, call drive.mount(\"/content/gdrive\", force_remount=True).\n"
          ]
        }
      ]
    },
    {
      "cell_type": "markdown",
      "metadata": {
        "id": "6lYhJActoAW1"
      },
      "source": [
        "COLUMNS:\n",
        "- Open Time: Candle Open Time\n",
        "- Open Price: Open Price in Quote (Secondary) Asset (USDT in the DF below)\n",
        "- High Price: High Price in Quote (Secondary) Asset (USDT in the DF below)\n",
        "- Low Price: Low Price in Quote (Secondary) Asset (USDT in the DF below)\n",
        "- Close Price: Close Price in Quote (Secondary) Asset (USDT in the DF below)\n",
        "- Volume Traded: Total Trade Volume in Primary (Base) Asset Units (BTC in the DF below)\n",
        "- Close Time: Candle Close Time\n",
        "- Quote Asset Volume: Total Trade Volume in Quote (Secondary) Asset Units (USDT in the DF below)\n",
        "- Number of Trades: Total Number of Trades\n",
        "- Taker Buy Base Asset Volume: Number of Trades in Primary (Base) Asset Resulting from a Taker Matching an Existing Order. In other words, it separates the 'Volume Traded Feature' by the amount traded as a result of orders baing placed in the order book and orders being matched in the order book (might need to revisit this, could provide additional interesting insights, if we have a better understanding of trading strategies). Volume Traded = Taker Buy Base Asset Volume + Maker Buy Base Asset Volume\n",
        "- Taker Buy Quote Asset Volume: Number of Trades in Quote (Secondary) Asset Resulting from a Taker Mathcing an Existing Order. Explanation similar to the above, only difference the volume is calculated in Quote (Secondary) Asset units. Quote Asset Volume = Takes Buy Quote Asser Volume + Maker Buy Quote Asset Volume\n",
        "- NA: Safe to Ignore"
      ]
    },
    {
      "cell_type": "markdown",
      "metadata": {
        "id": "jIqviJFroT_z"
      },
      "source": [
        "# Multi-Input, Single-Output LSTM on the Raw Standardized Dataset"
      ]
    },
    {
      "cell_type": "code",
      "metadata": {
        "colab": {
          "base_uri": "https://localhost:8080/"
        },
        "id": "7exAk5Eb01ad",
        "outputId": "e9ded2a3-2224-41b3-a7ec-a6ba759182f2"
      },
      "source": [
        "# Tale's location in Drive\n",
        "df = pd.read_csv('/content/gdrive/MyDrive/playground/btcusdt_data.csv', index_col=0)"
      ],
      "execution_count": 4,
      "outputs": [
        {
          "output_type": "stream",
          "name": "stderr",
          "text": [
            "/usr/local/lib/python3.7/dist-packages/numpy/lib/arraysetops.py:580: FutureWarning: elementwise comparison failed; returning scalar instead, but in the future will perform elementwise comparison\n",
            "  mask |= (ar1 == a)\n"
          ]
        }
      ]
    },
    {
      "cell_type": "code",
      "metadata": {
        "id": "CPzujGdKSawM"
      },
      "source": [
        "df['Previous Close Price'] = df['Close Price'].shift(1).values"
      ],
      "execution_count": 5,
      "outputs": []
    },
    {
      "cell_type": "code",
      "metadata": {
        "colab": {
          "base_uri": "https://localhost:8080/",
          "height": 296
        },
        "id": "dudlg5CBWTfK",
        "outputId": "66c752e6-a50b-420d-96d9-9d64914c6685"
      },
      "source": [
        "df.head()"
      ],
      "execution_count": 6,
      "outputs": [
        {
          "output_type": "execute_result",
          "data": {
            "text/html": [
              "<div>\n",
              "<style scoped>\n",
              "    .dataframe tbody tr th:only-of-type {\n",
              "        vertical-align: middle;\n",
              "    }\n",
              "\n",
              "    .dataframe tbody tr th {\n",
              "        vertical-align: top;\n",
              "    }\n",
              "\n",
              "    .dataframe thead th {\n",
              "        text-align: right;\n",
              "    }\n",
              "</style>\n",
              "<table border=\"1\" class=\"dataframe\">\n",
              "  <thead>\n",
              "    <tr style=\"text-align: right;\">\n",
              "      <th></th>\n",
              "      <th>Open Time</th>\n",
              "      <th>Open Price</th>\n",
              "      <th>High price</th>\n",
              "      <th>Low Price</th>\n",
              "      <th>Close Price</th>\n",
              "      <th>Volume Traded</th>\n",
              "      <th>Close Time</th>\n",
              "      <th>Quote asset Volume</th>\n",
              "      <th>Number of Trades</th>\n",
              "      <th>Taker buy base asset volume</th>\n",
              "      <th>Taker buy quote asset volume</th>\n",
              "      <th>NA</th>\n",
              "      <th>Previous Close Price</th>\n",
              "    </tr>\n",
              "  </thead>\n",
              "  <tbody>\n",
              "    <tr>\n",
              "      <th>0</th>\n",
              "      <td>1502942400000</td>\n",
              "      <td>4261.48</td>\n",
              "      <td>4261.48</td>\n",
              "      <td>4261.48</td>\n",
              "      <td>4261.48</td>\n",
              "      <td>1.775183</td>\n",
              "      <td>1502942459999</td>\n",
              "      <td>7564.906851</td>\n",
              "      <td>3</td>\n",
              "      <td>0.075183</td>\n",
              "      <td>320.390851</td>\n",
              "      <td>7960.540180</td>\n",
              "      <td>NaN</td>\n",
              "    </tr>\n",
              "    <tr>\n",
              "      <th>1</th>\n",
              "      <td>1502942460000</td>\n",
              "      <td>4261.48</td>\n",
              "      <td>4261.48</td>\n",
              "      <td>4261.48</td>\n",
              "      <td>4261.48</td>\n",
              "      <td>0.000000</td>\n",
              "      <td>1502942519999</td>\n",
              "      <td>0.000000</td>\n",
              "      <td>0</td>\n",
              "      <td>0.000000</td>\n",
              "      <td>0.000000</td>\n",
              "      <td>7960.452630</td>\n",
              "      <td>4261.48</td>\n",
              "    </tr>\n",
              "    <tr>\n",
              "      <th>2</th>\n",
              "      <td>1502942520000</td>\n",
              "      <td>4280.56</td>\n",
              "      <td>4280.56</td>\n",
              "      <td>4280.56</td>\n",
              "      <td>4280.56</td>\n",
              "      <td>0.261074</td>\n",
              "      <td>1502942579999</td>\n",
              "      <td>1117.542921</td>\n",
              "      <td>2</td>\n",
              "      <td>0.261074</td>\n",
              "      <td>1117.542921</td>\n",
              "      <td>7960.375295</td>\n",
              "      <td>4261.48</td>\n",
              "    </tr>\n",
              "    <tr>\n",
              "      <th>3</th>\n",
              "      <td>1502942580000</td>\n",
              "      <td>4261.48</td>\n",
              "      <td>4261.48</td>\n",
              "      <td>4261.48</td>\n",
              "      <td>4261.48</td>\n",
              "      <td>0.012008</td>\n",
              "      <td>1502942639999</td>\n",
              "      <td>51.171852</td>\n",
              "      <td>3</td>\n",
              "      <td>0.012008</td>\n",
              "      <td>51.171852</td>\n",
              "      <td>7960.375295</td>\n",
              "      <td>4280.56</td>\n",
              "    </tr>\n",
              "    <tr>\n",
              "      <th>4</th>\n",
              "      <td>1502942640000</td>\n",
              "      <td>4261.48</td>\n",
              "      <td>4261.48</td>\n",
              "      <td>4261.48</td>\n",
              "      <td>4261.48</td>\n",
              "      <td>0.140796</td>\n",
              "      <td>1502942699999</td>\n",
              "      <td>599.999338</td>\n",
              "      <td>1</td>\n",
              "      <td>0.140796</td>\n",
              "      <td>599.999338</td>\n",
              "      <td>7960.375295</td>\n",
              "      <td>4261.48</td>\n",
              "    </tr>\n",
              "  </tbody>\n",
              "</table>\n",
              "</div>"
            ],
            "text/plain": [
              "       Open Time  Open Price  ...           NA  Previous Close Price\n",
              "0  1502942400000     4261.48  ...  7960.540180                   NaN\n",
              "1  1502942460000     4261.48  ...  7960.452630               4261.48\n",
              "2  1502942520000     4280.56  ...  7960.375295               4261.48\n",
              "3  1502942580000     4261.48  ...  7960.375295               4280.56\n",
              "4  1502942640000     4261.48  ...  7960.375295               4261.48\n",
              "\n",
              "[5 rows x 13 columns]"
            ]
          },
          "metadata": {},
          "execution_count": 6
        }
      ]
    },
    {
      "cell_type": "code",
      "metadata": {
        "id": "AzT8z2ksTZ3v"
      },
      "source": [
        "df = df[1:]"
      ],
      "execution_count": 7,
      "outputs": []
    },
    {
      "cell_type": "code",
      "metadata": {
        "id": "GlllvqnUoL0S"
      },
      "source": [
        "df = df.drop(['Open Time', 'Close Time', 'NA'], axis = 1)"
      ],
      "execution_count": 8,
      "outputs": []
    },
    {
      "cell_type": "code",
      "metadata": {
        "id": "HqVXrZKqz-Jk"
      },
      "source": [
        "mmean = df.mean()\n",
        "sstd = df.std()\n",
        "df = (df - mmean) / sstd"
      ],
      "execution_count": 9,
      "outputs": []
    },
    {
      "cell_type": "code",
      "metadata": {
        "id": "FeNu9ocn0oy_"
      },
      "source": [
        "input_features = ['Open Price', 'High price', 'Low Price', 'Volume Traded',\n",
        "       'Quote asset Volume', 'Number of Trades', 'Taker buy base asset volume',\n",
        "       'Taker buy quote asset volume', 'Previous Close Price']"
      ],
      "execution_count": 10,
      "outputs": []
    },
    {
      "cell_type": "code",
      "metadata": {
        "id": "Zs5ndgCdFv95"
      },
      "source": [
        "# TO GENERATE INPUTS\n",
        "def generate_sequences_new(data, target_min, seq_len, feats):\n",
        "  empty_np_array = np.zeros((len(data)-seq_len, seq_len, len(feats)))\n",
        "  dfvs = data[feats].values\n",
        "  for i in range(seq_len, len(data)):\n",
        "    x = np.expand_dims(dfvs[i-seq_len:i, :], axis = 0)\n",
        "    empty_np_array[i-seq_len] = x\n",
        "    # print(i)\n",
        "    # print(x)\n",
        "    # print('---')\n",
        "  return empty_np_array"
      ],
      "execution_count": 83,
      "outputs": []
    },
    {
      "cell_type": "code",
      "metadata": {
        "id": "nd0A7sJ0Imro"
      },
      "source": [
        "x_train_val = generate_sequences_new(data = df, target_min = 1, seq_len = 32, feats= input_features)"
      ],
      "execution_count": 84,
      "outputs": []
    },
    {
      "cell_type": "code",
      "metadata": {
        "colab": {
          "base_uri": "https://localhost:8080/"
        },
        "id": "7zxGrxD9M47U",
        "outputId": "3c0f74da-6584-481e-951d-4cf74188e261"
      },
      "source": [
        "x_train_val.shape"
      ],
      "execution_count": 85,
      "outputs": [
        {
          "output_type": "execute_result",
          "data": {
            "text/plain": [
              "(2188571, 32, 9)"
            ]
          },
          "metadata": {},
          "execution_count": 85
        }
      ]
    },
    {
      "cell_type": "code",
      "metadata": {
        "id": "eNh5V77jMMxP"
      },
      "source": [
        "# TO GENERATE INPUTS\n",
        "def generate_sequences_new(data, target_min, seq_len, feats):\n",
        "  empty_np_array = np.zeros((len(data)-seq_len, 1, len(feats)))\n",
        "  dfvs = data[feats].values\n",
        "  for i in range(seq_len, len(data)):\n",
        "    x = np.expand_dims(dfvs[i, :], axis = 0)\n",
        "    empty_np_array[i-seq_len] = x\n",
        "    # print(i)\n",
        "    # print(x)\n",
        "    # print('---')\n",
        "  return empty_np_array"
      ],
      "execution_count": 86,
      "outputs": []
    },
    {
      "cell_type": "code",
      "metadata": {
        "id": "AaW9BrZhMO2w"
      },
      "source": [
        "y_train_val = generate_sequences_new(data = df, target_min = 1, seq_len = 32, feats= ['Close Price'])"
      ],
      "execution_count": 87,
      "outputs": []
    },
    {
      "cell_type": "code",
      "metadata": {
        "colab": {
          "base_uri": "https://localhost:8080/"
        },
        "id": "5BSNmUOPM82E",
        "outputId": "6db5be44-76e5-47e1-ab65-e0ae63eafd59"
      },
      "source": [
        "y_train_val.shape"
      ],
      "execution_count": 88,
      "outputs": [
        {
          "output_type": "execute_result",
          "data": {
            "text/plain": [
              "(2188571, 1, 1)"
            ]
          },
          "metadata": {},
          "execution_count": 88
        }
      ]
    },
    {
      "cell_type": "code",
      "metadata": {
        "id": "oHiOsMkcNVSg"
      },
      "source": [
        "x_train = x_train_val[:int(0.9*len(x_train_val))]\n",
        "y_train = y_train_val[:int(0.9*len(x_train_val))]\n",
        "\n",
        "x_val = x_train_val[int(0.9*len(x_train_val)):len(x_train_val)]\n",
        "y_val = y_train_val[int(0.9*len(x_train_val)):len(x_train_val)]"
      ],
      "execution_count": 89,
      "outputs": []
    },
    {
      "cell_type": "code",
      "metadata": {
        "colab": {
          "base_uri": "https://localhost:8080/"
        },
        "id": "yAku6ZhiNVVD",
        "outputId": "526126ba-b86d-4b7d-b987-3fff2b9d3f3d"
      },
      "source": [
        "x_train.shape, y_train.shape, x_val.shape, y_val.shape"
      ],
      "execution_count": 90,
      "outputs": [
        {
          "output_type": "execute_result",
          "data": {
            "text/plain": [
              "((1969713, 32, 9), (1969713, 1, 1), (218858, 32, 9), (218858, 1, 1))"
            ]
          },
          "metadata": {},
          "execution_count": 90
        }
      ]
    },
    {
      "cell_type": "code",
      "metadata": {
        "id": "A7ETjKCnNVYT"
      },
      "source": [
        "lstm_model2 = tf.keras.models.Sequential([\n",
        "    # Shape [batch, time, features] => [batch, time, lstm_units]\n",
        "    tf.keras.layers.LSTM(64, return_sequences=False),\n",
        "    # Shape => [batch, time, features]\n",
        "    tf.keras.layers.Dense(units=1)\n",
        "])"
      ],
      "execution_count": 93,
      "outputs": []
    },
    {
      "cell_type": "code",
      "metadata": {
        "id": "AolF5lyONdwR"
      },
      "source": [
        "MAX_EPOCHS = 5\n",
        "\n",
        "def compile_and_fit(model, x_train, y_train, x_val, y_val, patience=2):\n",
        "  early_stopping = tf.keras.callbacks.EarlyStopping(monitor='val_loss',\n",
        "                                                    patience=patience,\n",
        "                                                    mode='min')\n",
        "\n",
        "  model.compile(loss=tf.losses.MeanSquaredError(),\n",
        "                optimizer=tf.optimizers.Adam(),\n",
        "                metrics=[tf.metrics.MeanAbsoluteError()])\n",
        "\n",
        "  history = model.fit(x = x_train, y = y_train, epochs=MAX_EPOCHS, validation_data = (x_val, y_val))\n",
        "  return history"
      ],
      "execution_count": 94,
      "outputs": []
    },
    {
      "cell_type": "code",
      "metadata": {
        "colab": {
          "base_uri": "https://localhost:8080/"
        },
        "id": "-wG973EqNdzR",
        "outputId": "c209deef-72ae-4fa9-9563-db36bac9aed2"
      },
      "source": [
        "history2 = compile_and_fit(lstm_model2, x_train, y_train, x_val, y_val)"
      ],
      "execution_count": 95,
      "outputs": [
        {
          "output_type": "stream",
          "name": "stdout",
          "text": [
            "Epoch 1/5\n",
            "61554/61554 [==============================] - 234s 4ms/step - loss: 1.0828e-04 - mean_absolute_error: 0.0034 - val_loss: 2.7399e-05 - val_mean_absolute_error: 0.0032\n",
            "Epoch 2/5\n",
            "61554/61554 [==============================] - 232s 4ms/step - loss: 1.8126e-05 - mean_absolute_error: 0.0021 - val_loss: 4.4924e-05 - val_mean_absolute_error: 0.0033\n",
            "Epoch 3/5\n",
            "61554/61554 [==============================] - 229s 4ms/step - loss: 1.3586e-05 - mean_absolute_error: 0.0019 - val_loss: 2.5197e-05 - val_mean_absolute_error: 0.0030\n",
            "Epoch 4/5\n",
            "61554/61554 [==============================] - 229s 4ms/step - loss: 1.1855e-05 - mean_absolute_error: 0.0017 - val_loss: 1.4971e-04 - val_mean_absolute_error: 0.0066\n",
            "Epoch 5/5\n",
            "61554/61554 [==============================] - 228s 4ms/step - loss: 1.0474e-05 - mean_absolute_error: 0.0017 - val_loss: 9.1503e-05 - val_mean_absolute_error: 0.0044\n"
          ]
        }
      ]
    },
    {
      "cell_type": "code",
      "metadata": {
        "colab": {
          "base_uri": "https://localhost:8080/",
          "height": 471
        },
        "id": "Wx_0mbQjSFuv",
        "outputId": "3f552a50-dae3-4130-ad37-6d7f0df8d41a"
      },
      "source": [
        "lstm_model2.summary()\n",
        "val_pred2 = lstm_model2.predict(x_val)\n",
        "y_vals = [yi[-1] for yi in y_val]\n",
        "fig, ax = plt.subplots(figsize = (30,10))\n",
        "ax.plot(y_vals, label = 'data')\n",
        "ax.plot(val_pred2, alpha = 0.5, label = 'prediction')\n",
        "ax.legend(loc = 'best', fontsize = 20)"
      ],
      "execution_count": 96,
      "outputs": [
        {
          "output_type": "stream",
          "name": "stdout",
          "text": [
            "Model: \"sequential_2\"\n",
            "_________________________________________________________________\n",
            " Layer (type)                Output Shape              Param #   \n",
            "=================================================================\n",
            " lstm_1 (LSTM)               (None, 64)                18944     \n",
            "                                                                 \n",
            " dense_2 (Dense)             (None, 1)                 65        \n",
            "                                                                 \n",
            "=================================================================\n",
            "Total params: 19,009\n",
            "Trainable params: 19,009\n",
            "Non-trainable params: 0\n",
            "_________________________________________________________________\n"
          ]
        },
        {
          "output_type": "execute_result",
          "data": {
            "text/plain": [
              "<matplotlib.legend.Legend at 0x7fa0a778ead0>"
            ]
          },
          "metadata": {},
          "execution_count": 96
        },
        {
          "output_type": "display_data",
          "data": {
            "image/png": "[encoded data removed]",
            "text/plain": [
              "<Figure size 2160x720 with 1 Axes>"
            ]
          },
          "metadata": {
            "needs_background": "light"
          }
        }
      ]
    },
    {
      "cell_type": "markdown",
      "metadata": {
        "id": "SpDQdlxlVNYo"
      },
      "source": [
        "# Baseline Model on Raw Standardized Data"
      ]
    },
    {
      "cell_type": "code",
      "metadata": {
        "id": "PnrgFvdyUBZR"
      },
      "source": [
        "baseline_df = df[32:]\n",
        "baseline_df_train = baseline_df[:int(0.9*len(baseline_df))]\n",
        "baseline_df_val = baseline_df[int(0.9*len(baseline_df)):len(baseline_df)]"
      ],
      "execution_count": 32,
      "outputs": []
    },
    {
      "cell_type": "code",
      "metadata": {
        "colab": {
          "base_uri": "https://localhost:8080/"
        },
        "id": "mZCN6Irb0juW",
        "outputId": "929a5816-ee38-458a-f2b8-2d6243892a10"
      },
      "source": [
        "print(mean_squared_error(baseline_df_train['Close Price'].values, baseline_df_train['Previous Close Price'].values))"
      ],
      "execution_count": 34,
      "outputs": [
        {
          "output_type": "stream",
          "name": "stdout",
          "text": [
            "2.8378137385132154e-06\n"
          ]
        }
      ]
    },
    {
      "cell_type": "code",
      "metadata": {
        "id": "4ytx_r3q06s2"
      },
      "source": [
        "train_mse = mean_squared_error(baseline_df_train['Close Price'].values, baseline_df_train['Previous Close Price'].values)\n",
        "validation_mse = mean_squared_error(baseline_df_val['Close Price'].values, baseline_df_val['Previous Close Price'].values)\n",
        "train_mae = mean_absolute_error(baseline_df_train['Close Price'].values, baseline_df_train['Previous Close Price'].values)\n",
        "validation_mae = mean_absolute_error(baseline_df_val['Close Price'].values, baseline_df_val['Previous Close Price'].values)"
      ],
      "execution_count": 55,
      "outputs": []
    },
    {
      "cell_type": "code",
      "metadata": {
        "colab": {
          "base_uri": "https://localhost:8080/"
        },
        "id": "YU7Rg03gr3ra",
        "outputId": "2ed2fcfa-cfb1-4d8f-b96c-51f6f8b130c3"
      },
      "source": [
        "from sklearn.metrics import mean_squared_error, mean_absolute_error\n",
        "print(f\"The MSE of the baseline model on the training dataset is: {train_mse}\")\n",
        "print(f'The MSE of the baseline model on the validation dataset is: {validation_mse}')\n",
        "\n",
        "print(f'The MAE of the baseline model on the training dataset is: {train_mae:.6f}')\n",
        "print(f'The MAE of the baseline model on the validation dataset is: {validation_mae:.6f}')"
      ],
      "execution_count": 56,
      "outputs": [
        {
          "output_type": "stream",
          "name": "stdout",
          "text": [
            "The MSE of the baseline model on the training dataset is: 2.8378137385132154e-06\n",
            "The MSE of the baseline model on the validation dataset is: 9.223536144798333e-06\n",
            "The MAE of the baseline model on the training dataset is: 0.000697\n",
            "The MAE of the baseline model on the validation dataset is: 0.002004\n"
          ]
        }
      ]
    },
    {
      "cell_type": "markdown",
      "metadata": {
        "id": "oPy_jaAsF2N6"
      },
      "source": [
        "# Multi-Input, Multi-Output LSTM on Raw Standardized Dataset"
      ]
    },
    {
      "cell_type": "code",
      "metadata": {
        "id": "zOncb1dBHuXB"
      },
      "source": [
        "# TO GENERATE INPUTS\n",
        "def generate_sequences_new(data, target_min, seq_len, feats):\n",
        "  empty_np_array = np.zeros((len(data)-2*seq_len+1, seq_len, len(feats)))\n",
        "  dfvs = data[feats].values\n",
        "  for i in range(seq_len, len(data)-seq_len+1):\n",
        "    x = np.expand_dims(dfvs[i-seq_len:i, :], axis = 0)\n",
        "    empty_np_array[i-seq_len] = x\n",
        "  return empty_np_array"
      ],
      "execution_count": 20,
      "outputs": []
    },
    {
      "cell_type": "code",
      "metadata": {
        "id": "XXPkUpKcISXv"
      },
      "source": [
        "x_train_val = generate_sequences_new(data = df, target_min = 1, seq_len = 32, feats= input_features)"
      ],
      "execution_count": 21,
      "outputs": []
    },
    {
      "cell_type": "code",
      "metadata": {
        "colab": {
          "base_uri": "https://localhost:8080/"
        },
        "id": "LEaafIaf0y1Y",
        "outputId": "893b352b-b505-41dc-ecac-a26556319a8d"
      },
      "source": [
        "x_train_val.shape"
      ],
      "execution_count": 22,
      "outputs": [
        {
          "output_type": "execute_result",
          "data": {
            "text/plain": [
              "(2188540, 32, 9)"
            ]
          },
          "metadata": {},
          "execution_count": 22
        }
      ]
    },
    {
      "cell_type": "code",
      "metadata": {
        "id": "jGMGbUozxjyW"
      },
      "source": [
        "# TO GENERATE OUTPUTS\n",
        "def generate_sequences_new(data, target_min, seq_len, feats):\n",
        "  empty_np_array = np.zeros((len(data)-2*seq_len+1, seq_len, len(feats)))\n",
        "  dfvs = data[feats].values\n",
        "  for i in range(seq_len, len(data)-seq_len+1):\n",
        "    x = np.expand_dims(dfvs[i:i+seq_len, :], axis = 0)\n",
        "    empty_np_array[i-seq_len] = x\n",
        "  return empty_np_array"
      ],
      "execution_count": 23,
      "outputs": []
    },
    {
      "cell_type": "code",
      "metadata": {
        "id": "lPKjXj_hxuXd"
      },
      "source": [
        "y_train_val = generate_sequences_new(data = df, target_min = 1, seq_len = 32, feats= ['Close Price'])"
      ],
      "execution_count": 24,
      "outputs": []
    },
    {
      "cell_type": "code",
      "metadata": {
        "colab": {
          "base_uri": "https://localhost:8080/"
        },
        "id": "-XwYE9dXx6md",
        "outputId": "66290ad2-bd1c-4154-ccf7-bf77d421c52d"
      },
      "source": [
        "y_train_val.shape"
      ],
      "execution_count": 25,
      "outputs": [
        {
          "output_type": "execute_result",
          "data": {
            "text/plain": [
              "(2188540, 32, 1)"
            ]
          },
          "metadata": {},
          "execution_count": 25
        }
      ]
    },
    {
      "cell_type": "code",
      "metadata": {
        "id": "OLZUa0Yj1C_z"
      },
      "source": [
        "x_train = x_train_val[:int(0.9*len(x_train_val))]\n",
        "y_train = y_train_val[:int(0.9*len(x_train_val))]\n",
        "\n",
        "x_val = x_train_val[int(0.9*len(x_train_val)):len(x_train_val)]\n",
        "y_val = y_train_val[int(0.9*len(x_train_val)):len(x_train_val)]"
      ],
      "execution_count": 26,
      "outputs": []
    },
    {
      "cell_type": "code",
      "metadata": {
        "colab": {
          "base_uri": "https://localhost:8080/"
        },
        "id": "x-oXx_tR1Tg-",
        "outputId": "d6f6ea22-3136-451c-8d60-e8c7f8da67e7"
      },
      "source": [
        "x_train.shape, y_train.shape, x_val.shape, y_val.shape"
      ],
      "execution_count": 27,
      "outputs": [
        {
          "output_type": "execute_result",
          "data": {
            "text/plain": [
              "((1969686, 32, 9), (1969686, 32, 1), (218854, 32, 9), (218854, 32, 1))"
            ]
          },
          "metadata": {},
          "execution_count": 27
        }
      ]
    },
    {
      "cell_type": "code",
      "metadata": {
        "id": "x2iBGIg7lR5r"
      },
      "source": [
        "lstm_model2 = tf.keras.models.Sequential([\n",
        "    # Shape [batch, time, features] => [batch, time, lstm_units]\n",
        "    tf.keras.layers.LSTM(64, return_sequences=False),\n",
        "    # Shape => [batch, time, features]\n",
        "    tf.keras.layers.Dense(units=32)\n",
        "])"
      ],
      "execution_count": 28,
      "outputs": []
    },
    {
      "cell_type": "code",
      "metadata": {
        "id": "yb6pjnMklS9z"
      },
      "source": [
        "MAX_EPOCHS = 5\n",
        "\n",
        "def compile_and_fit(model, x_train, y_train, x_val, y_val, patience=2):\n",
        "  early_stopping = tf.keras.callbacks.EarlyStopping(monitor='val_loss',\n",
        "                                                    patience=patience,\n",
        "                                                    mode='min')\n",
        "\n",
        "  model.compile(loss=tf.losses.MeanSquaredError(),\n",
        "                optimizer=tf.optimizers.Adam(),\n",
        "                metrics=[tf.metrics.MeanAbsoluteError()])\n",
        "\n",
        "  history = model.fit(x = x_train, y = y_train, epochs=MAX_EPOCHS, validation_data = (x_val, y_val))\n",
        "  return history"
      ],
      "execution_count": 29,
      "outputs": []
    },
    {
      "cell_type": "code",
      "metadata": {
        "colab": {
          "base_uri": "https://localhost:8080/"
        },
        "id": "nYa5js8OlTE2",
        "outputId": "75cf668a-71ee-4ff3-bca9-462a5e3f234d"
      },
      "source": [
        "history2 = compile_and_fit(lstm_model2, x_train, y_train, x_val, y_val)"
      ],
      "execution_count": 30,
      "outputs": [
        {
          "output_type": "stream",
          "name": "stdout",
          "text": [
            "Epoch 1/5\n",
            "61553/61553 [==============================] - 234s 4ms/step - loss: 3.6261e-04 - mean_absolute_error: 0.0056 - val_loss: 2.1984e-04 - val_mean_absolute_error: 0.0100\n",
            "Epoch 2/5\n",
            "61553/61553 [==============================] - 229s 4ms/step - loss: 6.5981e-05 - mean_absolute_error: 0.0041 - val_loss: 2.0512e-04 - val_mean_absolute_error: 0.0096\n",
            "Epoch 3/5\n",
            "61553/61553 [==============================] - 228s 4ms/step - loss: 5.9723e-05 - mean_absolute_error: 0.0037 - val_loss: 2.5132e-04 - val_mean_absolute_error: 0.0098\n",
            "Epoch 4/5\n",
            "61553/61553 [==============================] - 228s 4ms/step - loss: 5.7135e-05 - mean_absolute_error: 0.0036 - val_loss: 2.1095e-04 - val_mean_absolute_error: 0.0100\n",
            "Epoch 5/5\n",
            "61553/61553 [==============================] - 229s 4ms/step - loss: 5.4911e-05 - mean_absolute_error: 0.0035 - val_loss: 1.6730e-04 - val_mean_absolute_error: 0.0084\n"
          ]
        }
      ]
    },
    {
      "cell_type": "markdown",
      "metadata": {
        "id": "sEhiNO4EJ6tC"
      },
      "source": [
        "# Countless Models and Preprocessing Steps Tested (SAFE TO IGNORE!)"
      ]
    },
    {
      "cell_type": "code",
      "metadata": {
        "id": "I6gqdCyThJKu"
      },
      "source": [
        "x_train = tf.convert_to_tensor(x_train, dtype=tf.float32)\n",
        "x_val = tf.convert_to_tensor(x_val, dtype=tf.float32)\n",
        "y_train = tf.convert_to_tensor(y_train, dtype=tf.float32)\n",
        "y_val = tf.convert_to_tensor(y_val, dtype=tf.float32)"
      ],
      "execution_count": null,
      "outputs": []
    },
    {
      "cell_type": "code",
      "metadata": {
        "id": "9fOZVCIlhfX5"
      },
      "source": [
        "batch_size = 1024\n",
        "train_data = tf.data.Dataset.from_tensor_slices((x_train, y_train))\n",
        "train_data = train_data.batch(batch_size)\n",
        "train_data = train_data.prefetch(AUTOTUNE)\n",
        "\n",
        "validation_data = tf.data.Dataset.from_tensor_slices((x_val, y_val))\n",
        "validation_data = validation_data.batch(batch_size)\n",
        "validation_data = validation_data.prefetch(AUTOTUNE)\n",
        "\n",
        "print('train_data',train_data)\n",
        "print('validation_data',validation_data)"
      ],
      "execution_count": null,
      "outputs": []
    },
    {
      "cell_type": "code",
      "metadata": {
        "id": "BNQAur68kjIz"
      },
      "source": [
        "# single = train_data.take(1)"
      ],
      "execution_count": null,
      "outputs": []
    },
    {
      "cell_type": "code",
      "metadata": {
        "id": "ZkaTidyak4gT"
      },
      "source": [
        "# for s in single:\n",
        "#   print(s[0].shape, s[1].shape)\n",
        "#   print(s[0][0])"
      ],
      "execution_count": null,
      "outputs": []
    },
    {
      "cell_type": "code",
      "metadata": {
        "id": "39qr0diTyFj4"
      },
      "source": [
        "lstm_model2 = tf.keras.models.Sequential([\n",
        "    # Shape [batch, time, features] => [batch, time, lstm_units]\n",
        "    tf.keras.layers.LSTM(64, return_sequences=False),\n",
        "    # Shape => [batch, time, features]\n",
        "    tf.keras.layers.Dense(units=32)\n",
        "])"
      ],
      "execution_count": null,
      "outputs": []
    },
    {
      "cell_type": "code",
      "metadata": {
        "id": "qMysO5rTyMXU"
      },
      "source": [
        "MAX_EPOCHS = 5\n",
        "\n",
        "def compile_and_fit(model, train_data, validation_data, patience=2):\n",
        "  early_stopping = tf.keras.callbacks.EarlyStopping(monitor='val_loss',\n",
        "                                                    patience=patience,\n",
        "                                                    mode='min')\n",
        "\n",
        "  model.compile(loss=tf.losses.MeanSquaredError(),\n",
        "                optimizer=tf.optimizers.Adam(),\n",
        "                metrics=[tf.metrics.MeanAbsoluteError()])\n",
        "\n",
        "  history = model.fit(train_data, epochs=MAX_EPOCHS, validation_data = validation_data)\n",
        "  return history"
      ],
      "execution_count": null,
      "outputs": []
    },
    {
      "cell_type": "code",
      "metadata": {
        "id": "nqi075FnyMaA"
      },
      "source": [
        "history2 = compile_and_fit(lstm_model2, train_data, validation_data)"
      ],
      "execution_count": null,
      "outputs": []
    },
    {
      "cell_type": "code",
      "metadata": {
        "id": "JVur8xV1ySxh"
      },
      "source": [
        "# Modelling on the Standardizer Dataset\n",
        "\n",
        "from numpy import load\n",
        "x_train = load('/content/gdrive/MyDrive/playground/x_train_simple.npy')\n",
        "y_train = load('/content/gdrive/MyDrive/playground/y_train_simple.npy')\n",
        "x_val = load('/content/gdrive/MyDrive/playground/x_val_simple.npy')\n",
        "y_val = load('/content/gdrive/MyDrive/playground/y_val_simple.npy')\n",
        "\n",
        "x_train.shape, y_train.shape, x_val.shape, y_val.shape\n",
        "\n",
        "train_dataset = tf.data.Dataset.from_tensor_slices((x_train, y_train))\n",
        "train_dataset = train_dataset.batch(64)\n",
        "train_dataset = train_dataset.prefetch(buffer_size = AUTOTUNE)\n",
        "\n",
        "validation_dataset = tf.data.Dataset.from_tensor_slices((x_val, y_val))\n",
        "validation_dataset = validation_dataset.batch(64)\n",
        "validation_dataset = validation_dataset.prefetch(buffer_size = AUTOTUNE)\n",
        "\n",
        "# Simple RNN Model\n",
        "model = tf.keras.models.Sequential([\n",
        "    # Shape [batch, time, features] => [batch, time, lstm_units]\n",
        "    tf.keras.layers.SimpleRNN(64, return_sequences=False),\n",
        "    # Shape => [batch, time, features]\n",
        "    tf.keras.layers.Dense(units=1)\n",
        "])\n",
        "\n",
        "# first weights for the input, second weights for the hidden state, third weights for bias\n",
        "model.layers[0].get_weights()[0].shape, model.layers[0].get_weights()[1].shape, model.layers[0].get_weights()[2].shape\n",
        "\n",
        "weights_h = np.zeros((64,64))\n",
        "weights_b = np.zeros((64,))\n",
        "weights_h.shape, weights_b.shape\n",
        "\n",
        "model.layers[0].set_weights([model.layers[0].get_weights()[0], weights_h, weights_b])\n",
        "model.layers[0].get_weights()[2]\n",
        "model.layers[0].trainable = False\n",
        "\n",
        "MAX_EPOCHS = 2\n",
        "\n",
        "def compile_and_fit(model, x_train, y_train, x_val, y_val, patience=2):\n",
        "  early_stopping = tf.keras.callbacks.EarlyStopping(monitor='val_loss',\n",
        "                                                    patience=patience,\n",
        "                                                    mode='min')\n",
        "\n",
        "  model.compile(loss=tf.losses.MeanSquaredError(),\n",
        "                optimizer=tf.optimizers.Adam(),\n",
        "                metrics=[tf.metrics.MeanAbsoluteError()])\n",
        "\n",
        "  history = model.fit(x = x_train, y = y_train, epochs=MAX_EPOCHS, validation_data = (x_val, y_val))\n",
        "  return history\n",
        "\n",
        "history2 = compile_and_fit(model, x_train, y_train, x_val, y_val)\n",
        "\n",
        "model.summary()\n",
        "val_pred2 = model.predict(x_val)\n",
        "y_vals = [yi[-1] for yi in y_val]\n",
        "fig, ax = plt.subplots(figsize = (30,10))\n",
        "ax.plot(y_vals, label = 'data')\n",
        "ax.plot(val_pred2, alpha = 0.5, label = 'prediction')\n",
        "ax.legend(loc = 'best', fontsize = 20)\n",
        "\n",
        "# LSTM Model\n",
        "lstm_model2 = tf.keras.models.Sequential([\n",
        "    # Shape [batch, time, features] => [batch, time, lstm_units]\n",
        "    tf.keras.layers.LSTM(64, return_sequences=False),\n",
        "    # Shape => [batch, time, features]\n",
        "    tf.keras.layers.Dense(units=1)\n",
        "])\n",
        "\n",
        "lstm_model2 = tf.keras.models.Sequential([\n",
        "    # Shape [batch, time, features] => [batch, time, lstm_units]\n",
        "    tf.keras.layers.LSTM(256, return_sequences=True),\n",
        "    tf.keras.layers.Dropout(0.2),\n",
        "    tf.keras.layers.LSTM(128, return_sequences=True),\n",
        "    tf.keras.layers.Dropout(0.2),\n",
        "    tf.keras.layers.LSTM(64, return_sequences=False),\n",
        "    tf.keras.layers.Dropout(0.2),\n",
        "    # Shape => [batch, time, features]\n",
        "    tf.keras.layers.Dense(units=1)\n",
        "])\n",
        "\n",
        "from tensorflow.keras.regularizers import L1L2\n",
        "\n",
        "def make_reg_LSTM():\n",
        "  reg = L1L2(l1=0.0, l2=0.01)\n",
        "\n",
        "  model = tf.keras.Sequential()\n",
        "\n",
        "  model.add(tf.keras.layers.LSTM(200, kernel_regularizer=reg, return_sequences=True))\n",
        "  # model.add(tf.keras.layers.LSTM(200, activation='tanh', input_shape=(win_length, num_features), kernel_regularizer=reg, return_sequences=True))\n",
        "  \n",
        "  model.add(tf.keras.layers.Dropout(0.01))\n",
        "\n",
        "  model.add(tf.keras.layers.Dense(100, activation='relu'))\n",
        "\n",
        "  model.add(tf.keras.layers.LSTM(100, activation='tanh', return_sequences=False))\n",
        "  model.add(tf.keras.layers.Dropout(0.01))\n",
        "  \n",
        "  model.add(tf.keras.layers.Dense(50, activation='relu'))\n",
        "  \n",
        "  model.add(tf.keras.layers.Dense(1))\n",
        "\n",
        "  optimizer = tf.keras.optimizers.SGD(learning_rate=1e-4, momentum=0.9)\n",
        "  model.compile(loss=tf.keras.losses.MeanSquaredError(), # Huber is less sensitive to outliers\n",
        "                          optimizer=optimizer,\n",
        "                          metrics=[\"mae\"])\n",
        "\n",
        "  \n",
        "  #model.summary()\n",
        "\n",
        "  return model\n",
        "\n",
        "lstm_model2 = make_reg_LSTM()\n",
        "\n",
        "MAX_EPOCHS = 5\n",
        "history = lstm_model2.fit(x = x_train, y = y_train, epochs=MAX_EPOCHS, validation_data = (x_val, y_val))\n",
        "\n",
        "MAX_EPOCHS = 5\n",
        "\n",
        "def compile_and_fit(model, x_train, y_train, x_val, y_val, patience=2):\n",
        "  early_stopping = tf.keras.callbacks.EarlyStopping(monitor='val_loss',\n",
        "                                                    patience=patience,\n",
        "                                                    mode='min')\n",
        "\n",
        "  model.compile(loss=tf.losses.MeanSquaredError(),\n",
        "                optimizer=tf.optimizers.SGD(learning_rate=2e-3, momentum=0.9),\n",
        "                metrics=[tf.metrics.MeanAbsoluteError()])\n",
        "\n",
        "  history = model.fit(x = x_train, y = y_train, epochs=MAX_EPOCHS, validation_data = (x_val, y_val))\n",
        "  return history\n",
        "\n",
        "history2 = compile_and_fit(lstm_model2, x_train, y_train, x_val, y_val)\n",
        "\n",
        "lstm_model2.summary()\n",
        "val_pred2 = lstm_model2.predict(x_val)\n",
        "y_vals = [yi[-1] for yi in y_val]\n",
        "fig, ax = plt.subplots(figsize = (30,10))\n",
        "ax.plot(y_vals, label = 'data')\n",
        "ax.plot(val_pred2, alpha = 0.5, label = 'prediction')\n",
        "ax.legend(loc = 'best', fontsize = 20)\n",
        "\n",
        "lstm_model2 = tf.keras.models.Sequential([\n",
        "    # Shape [batch, time, features] => [batch, time, lstm_units]\n",
        "    tf.keras.layers.LSTM(64, return_sequences=True),\n",
        "    tf.keras.layers.LSTM(64, return_sequences=False),\n",
        "    # Shape => [batch, time, features]\n",
        "    tf.keras.layers.Dense(units=1)\n",
        "])\n",
        "\n",
        "MAX_EPOCHS = 5\n",
        "\n",
        "def compile_and_fit(model, x_train, y_train, x_val, y_val, patience=2):\n",
        "  early_stopping = tf.keras.callbacks.EarlyStopping(monitor='val_loss',\n",
        "                                                    patience=patience,\n",
        "                                                    mode='min')\n",
        "\n",
        "  model.compile(loss=tf.losses.MeanSquaredError(),\n",
        "                optimizer=tf.optimizers.Adam(),\n",
        "                metrics=[tf.metrics.MeanAbsoluteError()])\n",
        "\n",
        "  history = model.fit(x = x_train, y = y_train, epochs=MAX_EPOCHS, validation_data = (x_val, y_val))\n",
        "  return history\n",
        "\n",
        "history2 = compile_and_fit(lstm_model2, x_train, y_train, x_val, y_val)"
      ],
      "execution_count": null,
      "outputs": []
    },
    {
      "cell_type": "markdown",
      "metadata": {
        "id": "fP5huWDNx63b"
      },
      "source": [
        "# Preprocessing ends here"
      ]
    },
    {
      "cell_type": "code",
      "metadata": {
        "id": "PHVBXIETLHb0"
      },
      "source": [
        "def generate_sequences_new(data, target_min, seq_len, feats):\n",
        "  empty_np_array = np.zeros((len(data)-seq_len+1, seq_len, len(feats)))\n",
        "  dfvs = data[feats].values\n",
        "  print(len(data)-seq_len+1)\n",
        "  for i in range(1, len(data)-seq_len+1):\n",
        "    x = np.expand_dims(dfvs[i:i+seq_len, :], axis = 0)\n",
        "    print(x.shape, i)\n",
        "    empty_np_array[i] = x\n",
        "  return empty_np_array"
      ],
      "execution_count": null,
      "outputs": []
    },
    {
      "cell_type": "code",
      "metadata": {
        "id": "hFqyRqUvOJ9g"
      },
      "source": [
        "y_train_val = generate_sequences_new(data = test_df, target_min = 1, seq_len = 10, feats= ['Close Price'])\n"
      ],
      "execution_count": null,
      "outputs": []
    },
    {
      "cell_type": "code",
      "metadata": {
        "id": "QaEFH4f5Khf7"
      },
      "source": [
        "test_df.tail(10)"
      ],
      "execution_count": null,
      "outputs": []
    },
    {
      "cell_type": "code",
      "metadata": {
        "id": "FnesWzqg57P4"
      },
      "source": [
        "def multivariate_data(dataset, target, start_index, end_index, history_size,\n",
        "                      target_size, step, single_step=False):\n",
        "    data = []\n",
        "    labels = []\n",
        "\n",
        "    start_index = start_index + history_size\n",
        "    if end_index is None:\n",
        "        end_index = len(dataset) - target_size\n",
        "\n",
        "    for i in range(start_index, end_index):\n",
        "        indices = range(i-history_size, i, step)\n",
        "        data.append(dataset[indices])\n",
        "\n",
        "        if single_step:\n",
        "            labels.append(target[i+target_size])\n",
        "        else:\n",
        "            labels.append(target[i:i+target_size])\n",
        "\n",
        "    return np.array(data), np.array(labels)"
      ],
      "execution_count": null,
      "outputs": []
    },
    {
      "cell_type": "code",
      "metadata": {
        "id": "Mz-jLyxP83no"
      },
      "source": [
        "df.values[:,3]"
      ],
      "execution_count": null,
      "outputs": []
    },
    {
      "cell_type": "code",
      "metadata": {
        "id": "dsFVTdqM7SpG"
      },
      "source": [
        "train_data = multivariate_data(df.values, df.values[:,3], 0, 100, 32, 1, 1, single_step = True)"
      ],
      "execution_count": null,
      "outputs": []
    },
    {
      "cell_type": "code",
      "metadata": {
        "id": "JJUMo_Ro8_O1"
      },
      "source": [
        "train_data[0].shape, train_data[1].shape"
      ],
      "execution_count": null,
      "outputs": []
    },
    {
      "cell_type": "code",
      "metadata": {
        "id": "TZW5nxqoxW1p"
      },
      "source": [
        "for idx in range(1, 32):\n",
        "  df['Close Price' + str(idx)] = df['Close Price'].shift(-idx).values"
      ],
      "execution_count": null,
      "outputs": []
    },
    {
      "cell_type": "code",
      "metadata": {
        "id": "INPIrSkg0ppR"
      },
      "source": [
        "df.head()"
      ],
      "execution_count": null,
      "outputs": []
    },
    {
      "cell_type": "code",
      "metadata": {
        "id": "55t0HsoB1Diu"
      },
      "source": [
        "df = df[:-31]"
      ],
      "execution_count": null,
      "outputs": []
    },
    {
      "cell_type": "code",
      "metadata": {
        "id": "HOmQLkNOadR8"
      },
      "source": [
        "def generate_sequences_new(data, target_min, seq_len, feats):\n",
        "  empty_np_array = np.zeros((len(data)-seq_len+1, seq_len, len(feats)))\n",
        "  dfvs = data[feats].values\n",
        "  for i in range(len(data)-seq_len+1):\n",
        "    x = np.expand_dims(dfvs[i:i+seq_len, :], axis = 0)\n",
        "    print(x.shape)\n",
        "    empty_np_array[i] = x\n",
        "  return empty_np_array"
      ],
      "execution_count": null,
      "outputs": []
    },
    {
      "cell_type": "code",
      "metadata": {
        "id": "QvOKtD4IFZNS"
      },
      "source": [
        "empty_np_array = np.zeros((len(data)-seq_len+1, seq_len))\n",
        "dfvs = data['Close Price'].values\n",
        "for i in range(len(data)-seq_len+1):\n",
        "  x = "
      ],
      "execution_count": null,
      "outputs": []
    },
    {
      "cell_type": "code",
      "metadata": {
        "id": "h1kbEMhdE9P3"
      },
      "source": [
        "train_val_data = df[:int(n*0.01)]\n",
        "x_train_val = generate_sequences_new(data = train_val_data, target_min = 1, seq_len = win_length, feats= predict_features)\n",
        "y_train_val = generate_sequences_new(data = train_val_data, target_min = 1, seq_len = win_length, feats= output_features)\n"
      ],
      "execution_count": null,
      "outputs": []
    },
    {
      "cell_type": "code",
      "metadata": {
        "id": "QEr0kg5KogS2"
      },
      "source": [
        "mmean = df.mean()\n",
        "sstd = df.std()\n",
        "df = (df - mmean) / sstd"
      ],
      "execution_count": null,
      "outputs": []
    },
    {
      "cell_type": "code",
      "metadata": {
        "id": "cmw5UB211z1V"
      },
      "source": [
        "df.columns"
      ],
      "execution_count": null,
      "outputs": []
    },
    {
      "cell_type": "code",
      "metadata": {
        "id": "Am4cnW1S64iU"
      },
      "source": [
        "win_length = 32\n",
        "# just so it runs faster for Connor\n",
        "# n = len(df)*0.0001\n",
        "n = len(df)*0.01\n",
        "train_val_data = df[:int(n*0.9)]\n",
        "test_data = df[int(n*0.9):int(n)]\n",
        "predict_features = ['Open Price', 'High price', 'Low Price', 'Volume Traded',\n",
        "       'Quote asset Volume', 'Number of Trades', 'Taker buy base asset volume',\n",
        "       'Taker buy quote asset volume']\n",
        "output_features = ['Close Price', 'Close Price1', 'Close Price2',\n",
        "       'Close Price3', 'Close Price4', 'Close Price5', 'Close Price6',\n",
        "       'Close Price7', 'Close Price8', 'Close Price9', 'Close Price10',\n",
        "       'Close Price11', 'Close Price12', 'Close Price13', 'Close Price14',\n",
        "       'Close Price15', 'Close Price16', 'Close Price17', 'Close Price18',\n",
        "       'Close Price19', 'Close Price20', 'Close Price21', 'Close Price22',\n",
        "       'Close Price23', 'Close Price24', 'Close Price25', 'Close Price26',\n",
        "       'Close Price27', 'Close Price28', 'Close Price29', 'Close Price30',\n",
        "       'Close Price31']"
      ],
      "execution_count": null,
      "outputs": []
    },
    {
      "cell_type": "code",
      "metadata": {
        "id": "ehL6z5JisA2c"
      },
      "source": [
        "# this is incorporating both training and validation sets\n",
        "x_train_val = generate_sequences_new(data = train_val_data, target_min = 1, seq_len = win_length, feats= predict_features)\n",
        "print(x_train_val.shape)\n",
        "\n",
        "y_train_val = generate_sequences_new(data = train_val_data, target_min = 1, seq_len = win_length, feats= output_features)\n",
        "print(y_train_val.shape)\n",
        "\n",
        "x_test = generate_sequences_new(data = test_data, target_min = 1, seq_len = win_length,feats= predict_features)\n",
        "print(x_test.shape)"
      ],
      "execution_count": null,
      "outputs": []
    },
    {
      "cell_type": "code",
      "metadata": {
        "id": "saWmvrVysFMM"
      },
      "source": [
        "# this is separating into training and validation sets\n",
        "x_train = x_train_val[:int(0.9*len(x_train_val))]\n",
        "y_train = y_train_val[:int(0.9*len(x_train_val))]\n",
        "\n",
        "x_val = x_train_val[int(0.9*len(x_train_val)):len(x_train_val)]\n",
        "y_val = y_train_val[int(0.9*len(x_train_val)):len(x_train_val)]"
      ],
      "execution_count": null,
      "outputs": []
    },
    {
      "cell_type": "code",
      "metadata": {
        "id": "LEctJveGsGd7"
      },
      "source": [
        "lstm_model2 = tf.keras.models.Sequential([\n",
        "    # Shape [batch, time, features] => [batch, time, lstm_units]\n",
        "    tf.keras.layers.LSTM(64, return_sequences=False),\n",
        "    # Shape => [batch, time, features]\n",
        "    tf.keras.layers.Dense(units=32)\n",
        "])"
      ],
      "execution_count": null,
      "outputs": []
    },
    {
      "cell_type": "code",
      "metadata": {
        "id": "YCy5xkZosKLM"
      },
      "source": [
        "MAX_EPOCHS = 5\n",
        "\n",
        "def compile_and_fit(model, x_train, y_train, x_val, y_val, patience=2):\n",
        "  early_stopping = tf.keras.callbacks.EarlyStopping(monitor='val_loss',\n",
        "                                                    patience=patience,\n",
        "                                                    mode='min')\n",
        "\n",
        "  model.compile(loss=tf.losses.MeanSquaredError(),\n",
        "                optimizer=tf.optimizers.Adam(),\n",
        "                metrics=[tf.metrics.MeanAbsoluteError()])\n",
        "\n",
        "  history = model.fit(x = x_train, y = y_train, epochs=MAX_EPOCHS, validation_data = (x_val, y_val))\n",
        "  return history"
      ],
      "execution_count": null,
      "outputs": []
    },
    {
      "cell_type": "code",
      "metadata": {
        "id": "mY5AvxJM2yqw"
      },
      "source": [
        "x_train.shape, y_train.shape, x_val.shape, y_val.shape"
      ],
      "execution_count": null,
      "outputs": []
    },
    {
      "cell_type": "code",
      "metadata": {
        "id": "fcAhsl5KsnpI"
      },
      "source": [
        "history2 = compile_and_fit(lstm_model2, x_train, y_train, x_val, y_val)"
      ],
      "execution_count": null,
      "outputs": []
    },
    {
      "cell_type": "code",
      "metadata": {
        "id": "HIiJj1JjtdDJ"
      },
      "source": [
        "lstm_model2.summary()"
      ],
      "execution_count": null,
      "outputs": []
    },
    {
      "cell_type": "code",
      "metadata": {
        "id": "D9Ao_Mcksslw"
      },
      "source": [
        "val_pred2 = lstm_model2.predict(x_val)\n",
        "y_vals = [yi[-1] for yi in y_val]\n",
        "fig, ax = plt.subplots(figsize = (30,10))\n",
        "ax.plot(y_vals, label = 'data')\n",
        "ax.plot(val_pred2, alpha = 0.5, label = 'prediction')\n",
        "ax.legend(loc = 'best', fontsize = 20)"
      ],
      "execution_count": null,
      "outputs": []
    },
    {
      "cell_type": "markdown",
      "metadata": {
        "id": "vddWj01Ft9dx"
      },
      "source": [
        "- Training on the whole dataset"
      ]
    },
    {
      "cell_type": "code",
      "metadata": {
        "id": "mwsda-DXYHF1"
      },
      "source": [
        "win_length = 32\n",
        "\n",
        "n = len(df)\n",
        "train_val_data = df[:int(n*0.975)]\n",
        "test_data = df[int(n*0.975):int(n)]\n",
        "predict_features = ['Open Price', 'High price', 'Low Price', 'Volume Traded',\n",
        "       'Quote asset Volume', 'Number of Trades', 'Taker buy base asset volume',\n",
        "       'Taker buy quote asset volume']"
      ],
      "execution_count": null,
      "outputs": []
    },
    {
      "cell_type": "code",
      "metadata": {
        "id": "MBt8D6oyuHjQ"
      },
      "source": [
        "# this is incorporating both training and validation sets\n",
        "x_train_val = generate_sequences_new(data = train_val_data, target_min = 1, seq_len = win_length, feats= predict_features)\n",
        "print(x_train_val.shape)\n",
        "\n",
        "y_train_val = generate_sequences_new(data = train_val_data, target_min = 1, seq_len = win_length, feats= ['Close Price'])\n",
        "print(y_train_val.shape)\n",
        "\n",
        "x_test = generate_sequences_new(data = test_data, target_min = 1, seq_len = win_length,feats= predict_features)\n",
        "print(x_test.shape)"
      ],
      "execution_count": null,
      "outputs": []
    },
    {
      "cell_type": "code",
      "metadata": {
        "id": "7oJAFWzuuKV5"
      },
      "source": [
        "# this is separating into training and validation sets\n",
        "x_train = x_train_val[:int(0.95*len(x_train_val))]\n",
        "y_train = y_train_val[:int(0.95*len(x_train_val))]\n",
        "\n",
        "x_val = x_train_val[int(0.95*len(x_train_val)):len(x_train_val)]\n",
        "y_val = y_train_val[int(0.95*len(x_train_val)):len(x_train_val)]"
      ],
      "execution_count": null,
      "outputs": []
    },
    {
      "cell_type": "code",
      "metadata": {
        "id": "XrjP1wlrBxCf"
      },
      "source": [
        "train_dataset = tf.data.Dataset.from_tensor_slices((x_train, y_train))\n",
        "train_dataset = train_dataset.batch(64)\n",
        "train_dataset = train_dataset.prefetch(buffer_size = AUTOTUNE)\n",
        "\n",
        "validation_dataset = tf.data.Dataset.from_tensor_slices((x_val, y_val))\n",
        "validation_dataset = validation_dataset.batch(64)\n",
        "validation_dataset = validation_dataset.prefetch(buffer_size = AUTOTUNE)"
      ],
      "execution_count": null,
      "outputs": []
    },
    {
      "cell_type": "code",
      "metadata": {
        "id": "whuKK0sXuTif"
      },
      "source": [
        "lstm_model2 = tf.keras.models.Sequential([\n",
        "    # Shape [batch, time, features] => [batch, time, lstm_units]\n",
        "    tf.keras.layers.LSTM(64, return_sequences=False),\n",
        "    # Shape => [batch, time, features]\n",
        "    tf.keras.layers.Dense(units=1)\n",
        "])"
      ],
      "execution_count": null,
      "outputs": []
    },
    {
      "cell_type": "code",
      "metadata": {
        "id": "ivAMmJ5VuWBi"
      },
      "source": [
        "MAX_EPOCHS = 5\n",
        "\n",
        "def compile_and_fit(model, x_train, y_train, x_val, y_val, patience=2):\n",
        "  early_stopping = tf.keras.callbacks.EarlyStopping(monitor='val_loss',\n",
        "                                                    patience=patience,\n",
        "                                                    mode='min')\n",
        "\n",
        "  model.compile(loss=tf.losses.MeanSquaredError(),\n",
        "                optimizer=tf.optimizers.Adam(),\n",
        "                metrics=[tf.metrics.MeanAbsoluteError()])\n",
        "\n",
        "  history = model.fit(train_dataset, epochs=MAX_EPOCHS, validation_data = validation_dataset)\n",
        "  return history"
      ],
      "execution_count": null,
      "outputs": []
    },
    {
      "cell_type": "code",
      "metadata": {
        "id": "bRhkfcwhuYXU"
      },
      "source": [
        "history2 = compile_and_fit(lstm_model2, x_train, y_train, x_val, y_val)"
      ],
      "execution_count": null,
      "outputs": []
    },
    {
      "cell_type": "code",
      "metadata": {
        "id": "kAP_hzVIubCL"
      },
      "source": [
        "val_pred2 = lstm_model2.predict(x_val)\n",
        "y_vals = [yi[-1] for yi in y_val]\n",
        "fig, ax = plt.subplots(figsize = (30,10))\n",
        "ax.plot(y_vals, label = 'data')\n",
        "ax.plot(val_pred2, alpha = 0.5, label = 'prediction')\n",
        "ax.legend(loc = 'best', fontsize = 20)"
      ],
      "execution_count": null,
      "outputs": []
    },
    {
      "cell_type": "markdown",
      "metadata": {
        "id": "ddPVXxeRZ7dt"
      },
      "source": [
        "# Feature Engineering Starts Here - With Log-Transformations"
      ]
    },
    {
      "cell_type": "code",
      "metadata": {
        "id": "ltHnRuvEBO34"
      },
      "source": [
        "# Tale's location in Drive\n",
        "btcusdt_df = pd.read_csv('/content/gdrive/MyDrive/playground/btcusdt_data.csv', index_col=0)"
      ],
      "execution_count": null,
      "outputs": []
    },
    {
      "cell_type": "code",
      "metadata": {
        "id": "JKxCTgNFaR52"
      },
      "source": [
        "display(btcusdt_df.head())"
      ],
      "execution_count": null,
      "outputs": []
    },
    {
      "cell_type": "code",
      "metadata": {
        "id": "QlN13Y2aahuV"
      },
      "source": [
        "def time_features_func(btcusdt_df = btcusdt_df):\n",
        "  btcusdt_df['Date'] = pd.to_datetime(btcusdt_df['Open Time'], unit = 'ms')\n",
        "  btcusdt_df['Year'] = pd.DatetimeIndex(btcusdt_df['Date']).year\n",
        "  btcusdt_df['Month'] = pd.DatetimeIndex(btcusdt_df['Date']).month\n",
        "  btcusdt_df['Day of Week'] = pd.DatetimeIndex(btcusdt_df['Date']).dayofweek\n",
        "  btcusdt_df['Day of Month'] = pd.DatetimeIndex(btcusdt_df['Date']).day\n",
        "  btcusdt_df['Day of Year'] = pd.DatetimeIndex(btcusdt_df['Date']).dayofyear\n",
        "  btcusdt_df['Week of Month'] = pd.DatetimeIndex(btcusdt_df['Date']).day // 7\n",
        "  btcusdt_df['Week of Year'] = btcusdt_df['Date'].dt.isocalendar().week\n",
        "  return btcusdt_df"
      ],
      "execution_count": null,
      "outputs": []
    },
    {
      "cell_type": "code",
      "metadata": {
        "id": "WasF1dfsayS-"
      },
      "source": [
        "btcusdt_df = time_features_func()"
      ],
      "execution_count": null,
      "outputs": []
    },
    {
      "cell_type": "code",
      "metadata": {
        "id": "qnFh1MGpa82n"
      },
      "source": [
        "from functools import reduce\n",
        "\n",
        "def stat_features_func(btcusdt_df = btcusdt_df):\n",
        "  col_names = ['Open Price', 'High price', 'Low Price', 'Close Price', 'Volume Traded', 'Quote asset Volume']\n",
        "  for col in col_names:\n",
        "    print(col)\n",
        "    df_mean = pd.DataFrame(np.log(btcusdt_df[col].rolling(window = 64, min_periods = 1).mean() + 1)).rename(columns={col: f'{col} Mean'})\n",
        "    df_min = pd.DataFrame(np.log(btcusdt_df[col].rolling(window = 64, min_periods = 1).min() + 1)).rename(columns={col: f'{col} Min'})\n",
        "    df_max = pd.DataFrame(np.log(btcusdt_df[col].rolling(window = 64, min_periods = 1).max() + 1)).rename(columns={col: f'{col} Max'})\n",
        "    df_std = pd.DataFrame(np.log(btcusdt_df[col].rolling(window = 64, min_periods = 1).std() + 1)).rename(columns={col: f'{col} Std'})\n",
        "    df_q25 = pd.DataFrame(np.log(btcusdt_df[col].rolling(window = 64, min_periods = 1).quantile(0.25) + 1)).rename(columns={col: f'{col} 25Q'})\n",
        "    df_q50 = pd.DataFrame(np.log(btcusdt_df[col].rolling(window = 64, min_periods = 1).quantile(0.50) + 1)).rename(columns={col: f'{col} 50Q'})\n",
        "    df_q75 = pd.DataFrame(np.log(btcusdt_df[col].rolling(window = 64, min_periods = 1).quantile(0.75) + 1)).rename(columns={col: f'{col} 75Q'})\n",
        "\n",
        "    df_mean.loc[df_mean[f'{col} Mean'].head(64).index, f'{col} Mean'] = np.NaN\n",
        "    df_min.loc[df_min[f'{col} Min'].head(64).index, f'{col} Min'] = np.NaN\n",
        "    df_max.loc[df_max[f'{col} Max'].head(64).index, f'{col} Max'] = np.NaN\n",
        "    df_std.loc[df_std[f'{col} Std'].head(64).index, f'{col} Std'] = np.NaN\n",
        "    df_q25.loc[df_q25[f'{col} 25Q'].head(64).index, f'{col} 25Q'] = np.NaN\n",
        "    df_q50.loc[df_q50[f'{col} 50Q'].head(64).index, f'{col} 50Q'] = np.NaN\n",
        "    df_q75.loc[df_q75[f'{col} 75Q'].head(64).index, f'{col} 75Q'] = np.NaN\n",
        "\n",
        "    df_list = [btcusdt_df, df_mean, df_min, df_max, df_std, df_q25, df_q50, df_q75]\n",
        "    btcusdt_df = reduce(lambda l, r: pd.merge(l, r, how = 'outer', left_index=True, right_index=True, validate='one_to_one'), df_list)\n",
        "  return btcusdt_df"
      ],
      "execution_count": null,
      "outputs": []
    },
    {
      "cell_type": "code",
      "metadata": {
        "id": "NgNnOtpzbStW"
      },
      "source": [
        "btcusdt_df = stat_features_func()"
      ],
      "execution_count": null,
      "outputs": []
    },
    {
      "cell_type": "code",
      "metadata": {
        "id": "DEujO2qebwWx"
      },
      "source": [
        "def nminutes_predc_func(btcusdt_df = btcusdt_df):\n",
        "  # add the maturity of the coins: nulber of minutes since creation\n",
        "  btcusdt_df['Number Minutes Creation'] = np.log(btcusdt_df.index.values + 1)\n",
        "  # previous close\n",
        "  btcusdt_df['Previous Close Price'] = np.log(btcusdt_df['Close Price'].shift(1).values + 1)\n",
        "  return btcusdt_df"
      ],
      "execution_count": null,
      "outputs": []
    },
    {
      "cell_type": "code",
      "metadata": {
        "id": "ufQ5x5A6cD7p"
      },
      "source": [
        "btcusdt_df = nminutes_predc_func()"
      ],
      "execution_count": null,
      "outputs": []
    },
    {
      "cell_type": "code",
      "metadata": {
        "id": "ORw9DATacImj"
      },
      "source": [
        "def trend_func(btcusdt_df = btcusdt_df):\n",
        "  # the liquidity of the pair - moving averge over the last 30 days to divide the volume\n",
        "  df_mean = pd.DataFrame(btcusdt_df['Volume Traded'].rolling(window = 43200, min_periods = 1).mean()).rename(columns={'Volume Traded': 'Mean Volume Traded'})\n",
        "  btcusdt_df['Volume Traded/Mean Volume Traded'] = np.log((btcusdt_df['Volume Traded'].values/df_mean['Mean Volume Traded'].values) + 1)\n",
        "  btcusdt_df.loc[btcusdt_df['Volume Traded/Mean Volume Traded'].head(43200).index, 'Volume Traded/Mean Volume Traded'] = np.NaN\n",
        "  return btcusdt_df"
      ],
      "execution_count": null,
      "outputs": []
    },
    {
      "cell_type": "code",
      "metadata": {
        "id": "0Kqa6XqIcWfl"
      },
      "source": [
        "btcusdt_df = trend_func()"
      ],
      "execution_count": null,
      "outputs": []
    },
    {
      "cell_type": "code",
      "metadata": {
        "id": "ROs0l9wwccWI"
      },
      "source": [
        "columns = ['Open Price', 'High price', 'Low Price', 'Volume Traded', 'Quote asset Volume', 'Number of Trades', 'Taker buy base asset volume', 'Taker buy quote asset volume']\n",
        "for col in columns:\n",
        "  btcusdt_df[col] = np.log(btcusdt_df[col].values + 1)"
      ],
      "execution_count": null,
      "outputs": []
    },
    {
      "cell_type": "code",
      "metadata": {
        "id": "qh4GSit-c-R7"
      },
      "source": [
        "columns = ['Year', 'Month', 'Day of Week', 'Day of Month', 'Day of Year', 'Week of Month', 'Week of Year']\n",
        "for col in columns:\n",
        "  btcusdt_df[col] = np.log(btcusdt_df[col].values + 1)"
      ],
      "execution_count": null,
      "outputs": []
    },
    {
      "cell_type": "code",
      "metadata": {
        "id": "xPXDaLVaeEs3"
      },
      "source": [
        "btcusdt_df.isna().sum()"
      ],
      "execution_count": null,
      "outputs": []
    },
    {
      "cell_type": "code",
      "metadata": {
        "id": "bsywTtQ5eTAX"
      },
      "source": [
        "btcusdt_df = btcusdt_df[43200:]"
      ],
      "execution_count": null,
      "outputs": []
    },
    {
      "cell_type": "code",
      "metadata": {
        "id": "ykG-MXt2hsWc"
      },
      "source": [
        "df = btcusdt_df.copy()"
      ],
      "execution_count": null,
      "outputs": []
    },
    {
      "cell_type": "markdown",
      "metadata": {
        "id": "wjOGLKWqk6Jh"
      },
      "source": [
        "# Feature Engineering Ends Here - With Log-Transformations"
      ]
    },
    {
      "cell_type": "markdown",
      "metadata": {
        "id": "xyMD_uIVkqq5"
      },
      "source": [
        "# Modeling on 2021 Data, Log-Transformed Data"
      ]
    },
    {
      "cell_type": "code",
      "metadata": {
        "id": "2SfzpZrwO9c7"
      },
      "source": [
        "df.head()"
      ],
      "execution_count": null,
      "outputs": []
    },
    {
      "cell_type": "code",
      "metadata": {
        "id": "muQxBGSAhFb0"
      },
      "source": [
        "df['Date_new'] = pd.to_datetime(df['Open Time'], unit = 'ms')\n",
        "df['Year_new'] = pd.DatetimeIndex(df['Date_new']).year"
      ],
      "execution_count": null,
      "outputs": []
    },
    {
      "cell_type": "code",
      "metadata": {
        "id": "sBElpUWHhx8l"
      },
      "source": [
        "df = df.loc[df['Year_new'] == 2021]\n",
        "df = df.reset_index(drop=True)\n",
        "df.head()"
      ],
      "execution_count": null,
      "outputs": []
    },
    {
      "cell_type": "code",
      "metadata": {
        "id": "HF3XoIF0iEL4"
      },
      "source": [
        "df = df.drop(['Date_new', 'Year_new'], axis = 1)\n"
      ],
      "execution_count": null,
      "outputs": []
    },
    {
      "cell_type": "code",
      "metadata": {
        "id": "ty1LunH3fPDt"
      },
      "source": [
        "btcusdt_df.columns"
      ],
      "execution_count": null,
      "outputs": []
    },
    {
      "cell_type": "code",
      "metadata": {
        "id": "_5fXg7OoeZ6R"
      },
      "source": [
        "df = df.drop(['Open Time', 'Close Time', 'NA', 'Date', 'Year'], axis = 1)"
      ],
      "execution_count": null,
      "outputs": []
    },
    {
      "cell_type": "code",
      "metadata": {
        "id": "6jw5WDdufIt6"
      },
      "source": [
        "mmean = df.mean()\n",
        "sstd = df.std()\n",
        "df = (df - mmean) / sstd"
      ],
      "execution_count": null,
      "outputs": []
    },
    {
      "cell_type": "code",
      "metadata": {
        "id": "mbME3ZvLfeyE"
      },
      "source": [
        "win_length = 32\n",
        "\n",
        "n = len(df)\n",
        "train_val_data = df[:int(n*0.975)]\n",
        "test_data = df[int(n*0.975):int(n)]\n",
        "predict_features = ['Open Price', 'High price', 'Low Price', 'Volume Traded',\n",
        "       'Quote asset Volume', 'Number of Trades', 'Taker buy base asset volume',\n",
        "       'Taker buy quote asset volume', 'Month', 'Day of Week',\n",
        "       'Day of Month', 'Day of Year', 'Week of Month', 'Week of Year',\n",
        "       'Open Price Mean', 'Open Price Min', 'Open Price Max', 'Open Price Std',\n",
        "       'Open Price 25Q', 'Open Price 50Q', 'Open Price 75Q', 'High price Mean',\n",
        "       'High price Min', 'High price Max', 'High price Std', 'High price 25Q',\n",
        "       'High price 50Q', 'High price 75Q', 'Low Price Mean', 'Low Price Min',\n",
        "       'Low Price Max', 'Low Price Std', 'Low Price 25Q', 'Low Price 50Q',\n",
        "       'Low Price 75Q', 'Close Price Mean', 'Close Price Min',\n",
        "       'Close Price Max', 'Close Price Std', 'Close Price 25Q',\n",
        "       'Close Price 50Q', 'Close Price 75Q', 'Volume Traded Mean',\n",
        "       'Volume Traded Min', 'Volume Traded Max', 'Volume Traded Std',\n",
        "       'Volume Traded 25Q', 'Volume Traded 50Q', 'Volume Traded 75Q',\n",
        "       'Quote asset Volume Mean', 'Quote asset Volume Min',\n",
        "       'Quote asset Volume Max', 'Quote asset Volume Std',\n",
        "       'Quote asset Volume 25Q', 'Quote asset Volume 50Q',\n",
        "       'Quote asset Volume 75Q', 'Number Minutes Creation',\n",
        "       'Previous Close Price', 'Volume Traded/Mean Volume Traded']"
      ],
      "execution_count": null,
      "outputs": []
    },
    {
      "cell_type": "code",
      "metadata": {
        "id": "IJvwmht9gF2C"
      },
      "source": [
        "def generate_sequences_new(data, target_min, seq_len, feats):\n",
        "  empty_np_array = np.zeros((len(data)-seq_len+1, seq_len, len(feats)))\n",
        "  dfvs = data[feats].values\n",
        "  for i in range(len(data)-seq_len+1):\n",
        "    x = np.expand_dims(dfvs[i:i+seq_len, :], axis = 0)\n",
        "    empty_np_array[i] = x\n",
        "  return empty_np_array"
      ],
      "execution_count": null,
      "outputs": []
    },
    {
      "cell_type": "code",
      "metadata": {
        "id": "pm2PQDbAfuj1"
      },
      "source": [
        "# this is incorporating both training and validation sets\n",
        "x_train_val = generate_sequences_new(data = train_val_data, target_min = 1, seq_len = win_length, feats= predict_features)\n",
        "print(x_train_val.shape)\n",
        "\n",
        "y_train_val = generate_sequences_new(data = train_val_data, target_min = 1, seq_len = win_length, feats= ['Close Price'])\n",
        "print(y_train_val.shape)\n",
        "\n",
        "x_test = generate_sequences_new(data = test_data, target_min = 1, seq_len = win_length,feats= predict_features)\n",
        "print(x_test.shape)"
      ],
      "execution_count": null,
      "outputs": []
    },
    {
      "cell_type": "code",
      "metadata": {
        "id": "Vg1_Hn7Rfysj"
      },
      "source": [
        "# this is separating into training and validation sets\n",
        "x_train = x_train_val[:int(0.95*len(x_train_val))]\n",
        "y_train = y_train_val[:int(0.95*len(x_train_val))]\n",
        "\n",
        "x_val = x_train_val[int(0.95*len(x_train_val)):len(x_train_val)]\n",
        "y_val = y_train_val[int(0.95*len(x_train_val)):len(x_train_val)]"
      ],
      "execution_count": null,
      "outputs": []
    },
    {
      "cell_type": "code",
      "metadata": {
        "id": "8tA3BRrM-ISj"
      },
      "source": [
        "x_train.shape, y_train.shape, x_val.shape, y_val.shape"
      ],
      "execution_count": null,
      "outputs": []
    },
    {
      "cell_type": "code",
      "metadata": {
        "id": "YhGAD4UI-bOm"
      },
      "source": [
        "np.save('x_train.npy', x_train)\n",
        "np.save('y_train.npy', y_train)\n",
        "np.save('x_val.npy', x_val)\n",
        "np.save('y_val.npy', y_val)"
      ],
      "execution_count": null,
      "outputs": []
    },
    {
      "cell_type": "code",
      "metadata": {
        "id": "XNwoUkT3gS8D"
      },
      "source": [
        "train_dataset = tf.data.Dataset.from_tensor_slices((x_train, y_train))\n",
        "train_dataset = train_dataset.batch(64)\n",
        "train_dataset = train_dataset.prefetch(buffer_size = AUTOTUNE)\n",
        "\n",
        "validation_dataset = tf.data.Dataset.from_tensor_slices((x_val, y_val))\n",
        "validation_dataset = validation_dataset.batch(64)\n",
        "validation_dataset = validation_dataset.prefetch(buffer_size = AUTOTUNE)"
      ],
      "execution_count": null,
      "outputs": []
    },
    {
      "cell_type": "code",
      "metadata": {
        "id": "coxBtrRtiyXr"
      },
      "source": [
        "lstm_model2 = tf.keras.models.Sequential([\n",
        "    # Shape [batch, time, features] => [batch, time, lstm_units]\n",
        "    tf.keras.layers.SimpleRNN(64, return_sequences=False),\n",
        "    # Shape => [batch, time, features]\n",
        "    tf.keras.layers.Dense(units=1)\n",
        "])"
      ],
      "execution_count": null,
      "outputs": []
    },
    {
      "cell_type": "code",
      "metadata": {
        "id": "tKWU0-Dli2w-"
      },
      "source": [
        "MAX_EPOCHS = 10\n",
        "\n",
        "def compile_and_fit(model, x_train, y_train, x_val, y_val, patience=2):\n",
        "  early_stopping = tf.keras.callbacks.EarlyStopping(monitor='val_loss',\n",
        "                                                    patience=patience,\n",
        "                                                    mode='min')\n",
        "\n",
        "  model.compile(loss=tf.losses.MeanSquaredError(),\n",
        "                optimizer=tf.optimizers.Adam(learning_rate = 0.005),\n",
        "                metrics=[tf.metrics.MeanAbsoluteError()])\n",
        "\n",
        "  history = model.fit(x = x_train, y = y_train, epochs=MAX_EPOCHS, validation_data = (x_val, y_val))\n",
        "  return history"
      ],
      "execution_count": null,
      "outputs": []
    },
    {
      "cell_type": "code",
      "metadata": {
        "id": "fHChjX51i6cI"
      },
      "source": [
        "history2 = compile_and_fit(lstm_model2, x_train, y_train, x_val, y_val)"
      ],
      "execution_count": null,
      "outputs": []
    },
    {
      "cell_type": "code",
      "metadata": {
        "id": "iuHw9HVKi-CC"
      },
      "source": [
        "lstm_model2.summary()\n",
        "val_pred2 = lstm_model2.predict(x_val)\n",
        "y_vals = [yi[-1] for yi in y_val]\n",
        "fig, ax = plt.subplots(figsize = (30,10))\n",
        "ax.plot(y_vals, label = 'data')\n",
        "ax.plot(val_pred2, alpha = 0.5, label = 'prediction')\n",
        "ax.legend(loc = 'best', fontsize = 20)"
      ],
      "execution_count": null,
      "outputs": []
    },
    {
      "cell_type": "code",
      "metadata": {
        "id": "cqvge-sMvt-I"
      },
      "source": [
        "fig, ax = plt.subplots(nrows = 1, ncols = 2, figsize = (20,6))\n",
        "ax[0].plot(history2.history['loss'], label = 'loss')\n",
        "ax[0].plot(history2.history['val_loss'], label = 'val_loss')\n",
        "ax[1].plot(history2.history['mean_absolute_error'], label = 'mean_absolute_error')\n",
        "ax[1].plot(history2.history['val_mean_absolute_error'], label = 'val_mean_absolute_error')\n",
        "ax[0].legend(loc = 'best')\n",
        "ax[1].legend(loc = 'best');"
      ],
      "execution_count": null,
      "outputs": []
    },
    {
      "cell_type": "markdown",
      "metadata": {
        "id": "sCfYLJHglvrw"
      },
      "source": [
        "# Feature Engineering Starts Here - No Log-Transformations"
      ]
    },
    {
      "cell_type": "code",
      "metadata": {
        "id": "odJdVfy_nvmU"
      },
      "source": [
        "# Tale's location in Drive\n",
        "btcusdt_df = pd.read_csv('/content/gdrive/MyDrive/playground/btcusdt_data.csv', index_col=0)"
      ],
      "execution_count": null,
      "outputs": []
    },
    {
      "cell_type": "code",
      "metadata": {
        "id": "EgB56_-FkNaY"
      },
      "source": [
        "from functools import reduce\n",
        "\n",
        "def time_features_func(btcusdt_df = btcusdt_df):\n",
        "  btcusdt_df['Date'] = pd.to_datetime(btcusdt_df['Open Time'], unit = 'ms')\n",
        "  btcusdt_df['Year'] = pd.DatetimeIndex(btcusdt_df['Date']).year\n",
        "  btcusdt_df['Month'] = pd.DatetimeIndex(btcusdt_df['Date']).month\n",
        "  btcusdt_df['Day of Week'] = pd.DatetimeIndex(btcusdt_df['Date']).dayofweek\n",
        "  btcusdt_df['Day of Month'] = pd.DatetimeIndex(btcusdt_df['Date']).day\n",
        "  btcusdt_df['Day of Year'] = pd.DatetimeIndex(btcusdt_df['Date']).dayofyear\n",
        "  btcusdt_df['Week of Month'] = pd.DatetimeIndex(btcusdt_df['Date']).day // 7\n",
        "  btcusdt_df['Week of Year'] = btcusdt_df['Date'].dt.isocalendar().week\n",
        "  return btcusdt_df\n",
        "\n",
        "def stat_features_func(btcusdt_df = btcusdt_df):\n",
        "  col_names = ['Open Price', 'High price', 'Low Price', 'Close Price', 'Volume Traded', 'Quote asset Volume']\n",
        "  for col in col_names:\n",
        "    print(col)\n",
        "    df_mean = pd.DataFrame(btcusdt_df[col].rolling(window = 64, min_periods = 1).mean()).rename(columns={col: f'{col} Mean'})\n",
        "    df_min = pd.DataFrame(btcusdt_df[col].rolling(window = 64, min_periods = 1).min()).rename(columns={col: f'{col} Min'})\n",
        "    df_max = pd.DataFrame(btcusdt_df[col].rolling(window = 64, min_periods = 1).max()).rename(columns={col: f'{col} Max'})\n",
        "    df_std = pd.DataFrame(btcusdt_df[col].rolling(window = 64, min_periods = 1).std()).rename(columns={col: f'{col} Std'})\n",
        "    df_q25 = pd.DataFrame(btcusdt_df[col].rolling(window = 64, min_periods = 1).quantile(0.25)).rename(columns={col: f'{col} 25Q'})\n",
        "    df_q50 = pd.DataFrame(btcusdt_df[col].rolling(window = 64, min_periods = 1).quantile(0.50)).rename(columns={col: f'{col} 50Q'})\n",
        "    df_q75 = pd.DataFrame(btcusdt_df[col].rolling(window = 64, min_periods = 1).quantile(0.75)).rename(columns={col: f'{col} 75Q'})\n",
        "\n",
        "    df_mean.loc[df_mean[f'{col} Mean'].head(64).index, f'{col} Mean'] = np.NaN\n",
        "    df_min.loc[df_min[f'{col} Min'].head(64).index, f'{col} Min'] = np.NaN\n",
        "    df_max.loc[df_max[f'{col} Max'].head(64).index, f'{col} Max'] = np.NaN\n",
        "    df_std.loc[df_std[f'{col} Std'].head(64).index, f'{col} Std'] = np.NaN\n",
        "    df_q25.loc[df_q25[f'{col} 25Q'].head(64).index, f'{col} 25Q'] = np.NaN\n",
        "    df_q50.loc[df_q50[f'{col} 50Q'].head(64).index, f'{col} 50Q'] = np.NaN\n",
        "    df_q75.loc[df_q75[f'{col} 75Q'].head(64).index, f'{col} 75Q'] = np.NaN\n",
        "\n",
        "    df_list = [btcusdt_df, df_mean, df_min, df_max, df_std, df_q25, df_q50, df_q75]\n",
        "    btcusdt_df = reduce(lambda l, r: pd.merge(l, r, how = 'outer', left_index=True, right_index=True, validate='one_to_one'), df_list)\n",
        "  return btcusdt_df\n",
        "\n",
        "def nminutes_predc_func(btcusdt_df = btcusdt_df):\n",
        "  # add the maturity of the coins: nulber of minutes since creation\n",
        "  btcusdt_df['Number Minutes Creation'] = btcusdt_df.index.values\n",
        "  # previous close\n",
        "  btcusdt_df['Previous Close Price'] = btcusdt_df['Close Price'].shift(1).values\n",
        "  return btcusdt_df\n",
        "\n",
        "def trend_func(btcusdt_df = btcusdt_df):\n",
        "  # the liquidity of the pair - moving averge over the last 30 days to divide the volume\n",
        "  df_mean = pd.DataFrame(btcusdt_df['Volume Traded'].rolling(window = 43200, min_periods = 1).mean()).rename(columns={'Volume Traded': 'Mean Volume Traded'})\n",
        "  btcusdt_df['Volume Traded/Mean Volume Traded'] = (btcusdt_df['Volume Traded'].values/df_mean['Mean Volume Traded'].values)\n",
        "  btcusdt_df.loc[btcusdt_df['Volume Traded/Mean Volume Traded'].head(43200).index, 'Volume Traded/Mean Volume Traded'] = np.NaN\n",
        "  return btcusdt_df\n"
      ],
      "execution_count": null,
      "outputs": []
    },
    {
      "cell_type": "code",
      "metadata": {
        "id": "1FF2t_qRoyiz"
      },
      "source": [
        "btcusdt_df = time_features_func(btcusdt_df)"
      ],
      "execution_count": null,
      "outputs": []
    },
    {
      "cell_type": "code",
      "metadata": {
        "id": "z6_QvRc9oyl3"
      },
      "source": [
        "btcusdt_df = stat_features_func(btcusdt_df)\n",
        "display(btcusdt_df.shape)"
      ],
      "execution_count": null,
      "outputs": []
    },
    {
      "cell_type": "code",
      "metadata": {
        "id": "URsk8HtyoypG"
      },
      "source": [
        "btcusdt_df = nminutes_predc_func(btcusdt_df)"
      ],
      "execution_count": null,
      "outputs": []
    },
    {
      "cell_type": "code",
      "metadata": {
        "id": "IeHHHHpAoyw0"
      },
      "source": [
        "btcusdt_df = trend_func(btcusdt_df)"
      ],
      "execution_count": null,
      "outputs": []
    },
    {
      "cell_type": "code",
      "metadata": {
        "id": "_Ddu1-pem38w"
      },
      "source": [
        "btcusdt_df.isna().sum()"
      ],
      "execution_count": null,
      "outputs": []
    },
    {
      "cell_type": "code",
      "metadata": {
        "id": "y48YoSg9m6NV"
      },
      "source": [
        "btcusdt_df = btcusdt_df[43200:]\n",
        "df = btcusdt_df.copy()"
      ],
      "execution_count": null,
      "outputs": []
    },
    {
      "cell_type": "code",
      "metadata": {
        "id": "qBJ5ppLmql0e"
      },
      "source": [
        "df = df.loc[df['Year'] == 2021]\n",
        "df = df.reset_index(drop=True)\n",
        "df.head()"
      ],
      "execution_count": null,
      "outputs": []
    },
    {
      "cell_type": "markdown",
      "metadata": {
        "id": "znG5JQ15wBqd"
      },
      "source": [
        "# Modeling on 2021 Data, No Log-Transformed Data"
      ]
    },
    {
      "cell_type": "code",
      "metadata": {
        "id": "1ySqKLILqsvz"
      },
      "source": [
        "df = df.drop(['Open Time', 'Close Time', 'NA', 'Date', 'Year'], axis = 1)"
      ],
      "execution_count": null,
      "outputs": []
    },
    {
      "cell_type": "code",
      "metadata": {
        "id": "OvMLLyLOqvlz"
      },
      "source": [
        "mmean = df.mean()\n",
        "sstd = df.std()\n",
        "df = (df - mmean) / sstd"
      ],
      "execution_count": null,
      "outputs": []
    },
    {
      "cell_type": "code",
      "metadata": {
        "id": "8KCDZztuqyOc"
      },
      "source": [
        "win_length = 32\n",
        "\n",
        "n = len(df)\n",
        "train_val_data = df[:int(n*0.975)]\n",
        "test_data = df[int(n*0.975):int(n)]\n",
        "predict_features = ['Open Price', 'High price', 'Low Price', 'Volume Traded',\n",
        "       'Quote asset Volume', 'Number of Trades', 'Taker buy base asset volume',\n",
        "       'Taker buy quote asset volume', 'Month', 'Day of Week',\n",
        "       'Day of Month', 'Day of Year', 'Week of Month', 'Week of Year',\n",
        "       'Open Price Mean', 'Open Price Min', 'Open Price Max', 'Open Price Std',\n",
        "       'Open Price 25Q', 'Open Price 50Q', 'Open Price 75Q', 'High price Mean',\n",
        "       'High price Min', 'High price Max', 'High price Std', 'High price 25Q',\n",
        "       'High price 50Q', 'High price 75Q', 'Low Price Mean', 'Low Price Min',\n",
        "       'Low Price Max', 'Low Price Std', 'Low Price 25Q', 'Low Price 50Q',\n",
        "       'Low Price 75Q', 'Close Price Mean', 'Close Price Min',\n",
        "       'Close Price Max', 'Close Price Std', 'Close Price 25Q',\n",
        "       'Close Price 50Q', 'Close Price 75Q', 'Volume Traded Mean',\n",
        "       'Volume Traded Min', 'Volume Traded Max', 'Volume Traded Std',\n",
        "       'Volume Traded 25Q', 'Volume Traded 50Q', 'Volume Traded 75Q',\n",
        "       'Quote asset Volume Mean', 'Quote asset Volume Min',\n",
        "       'Quote asset Volume Max', 'Quote asset Volume Std',\n",
        "       'Quote asset Volume 25Q', 'Quote asset Volume 50Q',\n",
        "       'Quote asset Volume 75Q', 'Number Minutes Creation',\n",
        "       'Previous Close Price', 'Volume Traded/Mean Volume Traded']"
      ],
      "execution_count": null,
      "outputs": []
    },
    {
      "cell_type": "code",
      "metadata": {
        "id": "TLnZZiCfq2FV"
      },
      "source": [
        "def generate_sequences_new(data, target_min, seq_len, feats):\n",
        "  empty_np_array = np.zeros((len(data)-seq_len+1, seq_len, len(feats)))\n",
        "  dfvs = data[feats].values\n",
        "  for i in range(len(data)-seq_len+1):\n",
        "    x = np.expand_dims(dfvs[i:i+seq_len, :], axis = 0)\n",
        "    empty_np_array[i] = x\n",
        "  return empty_np_array"
      ],
      "execution_count": null,
      "outputs": []
    },
    {
      "cell_type": "code",
      "metadata": {
        "id": "lTDsGg-pq4q0"
      },
      "source": [
        "# this is incorporating both training and validation sets\n",
        "x_train_val = generate_sequences_new(data = train_val_data, target_min = 1, seq_len = win_length, feats= predict_features)\n",
        "print(x_train_val.shape)\n",
        "\n",
        "y_train_val = generate_sequences_new(data = train_val_data, target_min = 1, seq_len = win_length, feats= ['Close Price'])\n",
        "print(y_train_val.shape)\n",
        "\n",
        "x_test = generate_sequences_new(data = test_data, target_min = 1, seq_len = win_length,feats= predict_features)\n",
        "print(x_test.shape)"
      ],
      "execution_count": null,
      "outputs": []
    },
    {
      "cell_type": "code",
      "metadata": {
        "id": "51yuWJgnq62J"
      },
      "source": [
        "# this is separating into training and validation sets\n",
        "x_train = x_train_val[:int(0.95*len(x_train_val))]\n",
        "y_train = y_train_val[:int(0.95*len(x_train_val))]\n",
        "\n",
        "x_val = x_train_val[int(0.95*len(x_train_val)):len(x_train_val)]\n",
        "y_val = y_train_val[int(0.95*len(x_train_val)):len(x_train_val)]"
      ],
      "execution_count": null,
      "outputs": []
    },
    {
      "cell_type": "code",
      "metadata": {
        "id": "3RnOoFTmgx6f"
      },
      "source": [
        "# from numpy import save\n",
        "# save('x_train.npy', x_train)\n",
        "# save('y_train.npy', y_train)\n",
        "# save('x_val.npy', x_val)\n",
        "# save('y_val.npy', y_val)"
      ],
      "execution_count": null,
      "outputs": []
    },
    {
      "cell_type": "code",
      "metadata": {
        "id": "Wek1ifYwilAt"
      },
      "source": [
        "# !cp x_train.npy /content/gdrive/MyDrive/playground/"
      ],
      "execution_count": null,
      "outputs": []
    },
    {
      "cell_type": "code",
      "metadata": {
        "id": "zlYK8leLjMN3"
      },
      "source": [
        "# !cp y_train.npy /content/gdrive/MyDrive/playground/"
      ],
      "execution_count": null,
      "outputs": []
    },
    {
      "cell_type": "code",
      "metadata": {
        "id": "H3XTIw54jMRj"
      },
      "source": [
        "# !cp x_val.npy /content/gdrive/MyDrive/playground/"
      ],
      "execution_count": null,
      "outputs": []
    },
    {
      "cell_type": "code",
      "metadata": {
        "id": "JLvmJnTLjMau"
      },
      "source": [
        "# !cp y_val.npy /content/gdrive/MyDrive/playground/"
      ],
      "execution_count": null,
      "outputs": []
    },
    {
      "cell_type": "code",
      "metadata": {
        "id": "D4wdktwsjI3y"
      },
      "source": [
        "ls /content/gdrive/MyDrive/playground/"
      ],
      "execution_count": null,
      "outputs": []
    },
    {
      "cell_type": "code",
      "metadata": {
        "id": "Obk4Zeazg0PX"
      },
      "source": [
        "from numpy import load\n",
        "x_train = load('/content/gdrive/MyDrive/playground/x_train.npy')\n",
        "y_train = load('/content/gdrive/MyDrive/playground/y_train.npy')\n",
        "x_val = load('/content/gdrive/MyDrive/playground/x_val.npy')\n",
        "y_val = load('/content/gdrive/MyDrive/playground/y_val.npy')\n",
        "\n",
        "x_train.shape, y_train.shape, x_val.shape, y_val.shape"
      ],
      "execution_count": null,
      "outputs": []
    },
    {
      "cell_type": "code",
      "metadata": {
        "id": "E2ZwC5-8q9jq"
      },
      "source": [
        "train_dataset = tf.data.Dataset.from_tensor_slices((x_train, y_train))\n",
        "train_dataset = train_dataset.batch(64)\n",
        "train_dataset = train_dataset.prefetch(buffer_size = AUTOTUNE)\n",
        "\n",
        "validation_dataset = tf.data.Dataset.from_tensor_slices((x_val, y_val))\n",
        "validation_dataset = validation_dataset.batch(64)\n",
        "validation_dataset = validation_dataset.prefetch(buffer_size = AUTOTUNE)"
      ],
      "execution_count": null,
      "outputs": []
    },
    {
      "cell_type": "code",
      "metadata": {
        "id": "XqO8lHXyrAp-"
      },
      "source": [
        "lstm_model2 = tf.keras.models.Sequential([\n",
        "    # Shape [batch, time, features] => [batch, time, lstm_units]\n",
        "    tf.keras.layers.LSTM(64, return_sequences=False),\n",
        "    # Shape => [batch, time, features]\n",
        "    tf.keras.layers.Dense(units=1)\n",
        "])"
      ],
      "execution_count": null,
      "outputs": []
    },
    {
      "cell_type": "code",
      "metadata": {
        "id": "MO7_LWhvrC13"
      },
      "source": [
        "MAX_EPOCHS = 5\n",
        "\n",
        "def compile_and_fit(model, x_train, y_train, x_val, y_val, patience=2):\n",
        "  early_stopping = tf.keras.callbacks.EarlyStopping(monitor='val_loss',\n",
        "                                                    patience=patience,\n",
        "                                                    mode='min')\n",
        "\n",
        "  model.compile(loss=tf.losses.MeanSquaredError(),\n",
        "                optimizer=tf.optimizers.Adam(),\n",
        "                metrics=[tf.metrics.MeanAbsoluteError()])\n",
        "\n",
        "  history = model.fit(x = x_train, y = y_train, epochs=MAX_EPOCHS, validation_data = (x_val, y_val))\n",
        "  return history"
      ],
      "execution_count": null,
      "outputs": []
    },
    {
      "cell_type": "code",
      "metadata": {
        "id": "M2kgUpxgrFXw"
      },
      "source": [
        "history2 = compile_and_fit(lstm_model2, x_train, y_train, x_val, y_val)"
      ],
      "execution_count": null,
      "outputs": []
    },
    {
      "cell_type": "code",
      "metadata": {
        "id": "MkxKjejKrIIR"
      },
      "source": [
        "lstm_model2.summary()\n",
        "val_pred2 = lstm_model2.predict(x_val)\n",
        "y_vals = [yi[-1] for yi in y_val]\n",
        "fig, ax = plt.subplots(figsize = (30,10))\n",
        "ax.plot(y_vals, label = 'data')\n",
        "ax.plot(val_pred2, alpha = 0.5, label = 'prediction')\n",
        "ax.legend(loc = 'best', fontsize = 20)"
      ],
      "execution_count": null,
      "outputs": []
    },
    {
      "cell_type": "code",
      "metadata": {
        "id": "Y2Xon6Ecfx6r"
      },
      "source": [
        "from numpy import save\n",
        "save('trial_data.npy', x_train)\n",
        "from numpy import load\n",
        "data = load('trial_data.npy')\n",
        "data.shape"
      ],
      "execution_count": null,
      "outputs": []
    },
    {
      "cell_type": "code",
      "metadata": {
        "id": "pY5Y46uagDgo"
      },
      "source": [
        "from numpy import load\n",
        "data = load('trial_data.npy')\n",
        "data.shape"
      ],
      "execution_count": null,
      "outputs": []
    },
    {
      "cell_type": "markdown",
      "metadata": {
        "id": "LKGALyujzl-i"
      },
      "source": [
        "# Baseline, Predicting the Price of the Previous Minute"
      ]
    },
    {
      "cell_type": "code",
      "metadata": {
        "id": "x7uTgFwJR10F"
      },
      "source": [
        "x_val.shape"
      ],
      "execution_count": null,
      "outputs": []
    },
    {
      "cell_type": "code",
      "metadata": {
        "id": "A1_3u7WzSFME"
      },
      "source": [
        "display(train_val_data.head())\n",
        "display(train_val_data.shape)"
      ],
      "execution_count": null,
      "outputs": []
    },
    {
      "cell_type": "code",
      "metadata": {
        "id": "o06q548ETVJR"
      },
      "source": [
        "y_true = train_val_data[-20513:]['Close Price']\n",
        "y_pred_baseline = train_val_data[-20513:]['Previous Close Price']"
      ],
      "execution_count": null,
      "outputs": []
    },
    {
      "cell_type": "code",
      "metadata": {
        "id": "fGZHNoqsTyve"
      },
      "source": [
        "from sklearn.metrics import mean_squared_error\n",
        "print(mean_squared_error(y_true, y_pred_baseline))"
      ],
      "execution_count": null,
      "outputs": []
    },
    {
      "cell_type": "code",
      "metadata": {
        "id": "odYZy0onUf_K"
      },
      "source": [
        "x_train.shape, y_train.shape"
      ],
      "execution_count": null,
      "outputs": []
    },
    {
      "cell_type": "code",
      "metadata": {
        "id": "GvXH-nVaUhr3"
      },
      "source": [
        ""
      ],
      "execution_count": null,
      "outputs": []
    }
  ]
}